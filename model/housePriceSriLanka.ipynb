{
 "cells": [
  {
   "cell_type": "code",
   "execution_count": 1,
   "id": "55b7fc1b",
   "metadata": {},
   "outputs": [],
   "source": [
    "import pandas as pd\n",
    "import numpy as np\n",
    "import matplotlib.pyplot as plt\n",
    "import math\n",
    "from sklearn.model_selection import train_test_split,KFold,GridSearchCV\n",
    "from sklearn.ensemble import RandomForestClassifier\n",
    "from sklearn.preprocessing import LabelEncoder\n",
    "from sklearn.metrics import confusion_matrix,accuracy_score,precision_score,recall_score,mean_squared_error\n",
    "import seaborn as sns"
   ]
  },
  {
   "cell_type": "code",
   "execution_count": 2,
   "id": "f505458c",
   "metadata": {},
   "outputs": [
    {
     "data": {
      "text/html": [
       "<div>\n",
       "<style scoped>\n",
       "    .dataframe tbody tr th:only-of-type {\n",
       "        vertical-align: middle;\n",
       "    }\n",
       "\n",
       "    .dataframe tbody tr th {\n",
       "        vertical-align: top;\n",
       "    }\n",
       "\n",
       "    .dataframe thead th {\n",
       "        text-align: right;\n",
       "    }\n",
       "</style>\n",
       "<table border=\"1\" class=\"dataframe\">\n",
       "  <thead>\n",
       "    <tr style=\"text-align: right;\">\n",
       "      <th></th>\n",
       "      <th>Title</th>\n",
       "      <th>Sub_title</th>\n",
       "      <th>Price</th>\n",
       "      <th>Address</th>\n",
       "      <th>Baths</th>\n",
       "      <th>Land size</th>\n",
       "      <th>Beds</th>\n",
       "      <th>House size</th>\n",
       "      <th>Location</th>\n",
       "      <th>Description</th>\n",
       "      <th>Post_URL</th>\n",
       "      <th>Seller_name</th>\n",
       "      <th>Seller_type</th>\n",
       "      <th>published_date</th>\n",
       "      <th>Geo_Address</th>\n",
       "      <th>Lat</th>\n",
       "      <th>Lon</th>\n",
       "    </tr>\n",
       "  </thead>\n",
       "  <tbody>\n",
       "    <tr>\n",
       "      <th>0</th>\n",
       "      <td>House with Land for Sale in Matara for sale</td>\n",
       "      <td>Posted on 06 Nov 2:32 pm, Matara City, Matara</td>\n",
       "      <td>Rs 5,400,000</td>\n",
       "      <td>Gangodagama Roard,Hakmana,Matara.</td>\n",
       "      <td>1</td>\n",
       "      <td>50.0 perches</td>\n",
       "      <td>3</td>\n",
       "      <td>1,600.0 sqft</td>\n",
       "      <td>Matara City,  Matara</td>\n",
       "      <td>Land for sale with house Matara,Hakmana Gangod...</td>\n",
       "      <td>https://ikman.lk/en/ad/house-with-land-for-sal...</td>\n",
       "      <td>Ishara Dilshan</td>\n",
       "      <td>Member</td>\n",
       "      <td>2021-11-06 14:32:00</td>\n",
       "      <td>Matara City, Matara, Sri Lanka</td>\n",
       "      <td>80.500000</td>\n",
       "      <td>6.166670</td>\n",
       "    </tr>\n",
       "    <tr>\n",
       "      <th>1</th>\n",
       "      <td>à¶",
       "à¶½à·à¶­à· à¶à·à¶¸à¶» 3 à¶ à¶à·à· à...</td>\n",
       "      <td>Posted on 24 Oct 7:27 am, Athurugiriya, Colombo</td>\n",
       "      <td>Rs 16,800,000</td>\n",
       "      <td>Athurugiriya Galwarusapare</td>\n",
       "      <td>3</td>\n",
       "      <td>8.0 perches</td>\n",
       "      <td>3</td>\n",
       "      <td>1,480.0 sqft</td>\n",
       "      <td>Athurugiriya,  Colombo</td>\n",
       "      <td>*House For Sale In Athurugiriya *Galwarusapare...</td>\n",
       "      <td>https://ikman.lk/en/ad/alut-kaamr-3-k-grh-bhaa...</td>\n",
       "      <td>DILRUWAN REAL ESTATE</td>\n",
       "      <td>Premium-Member</td>\n",
       "      <td>2021-10-24 07:27:00</td>\n",
       "      <td>Athurugiriya, Colombo, Sri Lanka</td>\n",
       "      <td>79.989929</td>\n",
       "      <td>6.877246</td>\n",
       "    </tr>\n",
       "  </tbody>\n",
       "</table>\n",
       "</div>"
      ],
      "text/plain": [
       "                                               Title  \\\n",
       "0        House with Land for Sale in Matara for sale   \n",
       "1  à¶\n",
       "à¶½à·à¶­à· à¶à·à¶¸à¶» 3 à¶ à¶à·à· à...   \n",
       "\n",
       "                                         Sub_title          Price  \\\n",
       "0    Posted on 06 Nov 2:32 pm, Matara City, Matara   Rs 5,400,000   \n",
       "1  Posted on 24 Oct 7:27 am, Athurugiriya, Colombo  Rs 16,800,000   \n",
       "\n",
       "                             Address Baths     Land size Beds    House size  \\\n",
       "0  Gangodagama Roard,Hakmana,Matara.     1  50.0 perches    3  1,600.0 sqft   \n",
       "1         Athurugiriya Galwarusapare     3   8.0 perches    3  1,480.0 sqft   \n",
       "\n",
       "                  Location                                        Description  \\\n",
       "0     Matara City,  Matara  Land for sale with house Matara,Hakmana Gangod...   \n",
       "1   Athurugiriya,  Colombo  *House For Sale In Athurugiriya *Galwarusapare...   \n",
       "\n",
       "                                            Post_URL           Seller_name  \\\n",
       "0  https://ikman.lk/en/ad/house-with-land-for-sal...        Ishara Dilshan   \n",
       "1  https://ikman.lk/en/ad/alut-kaamr-3-k-grh-bhaa...  DILRUWAN REAL ESTATE   \n",
       "\n",
       "      Seller_type       published_date                       Geo_Address  \\\n",
       "0          Member  2021-11-06 14:32:00    Matara City, Matara, Sri Lanka   \n",
       "1  Premium-Member  2021-10-24 07:27:00  Athurugiriya, Colombo, Sri Lanka   \n",
       "\n",
       "         Lat       Lon  \n",
       "0  80.500000  6.166670  \n",
       "1  79.989929  6.877246  "
      ]
     },
     "execution_count": 2,
     "metadata": {},
     "output_type": "execute_result"
    }
   ],
   "source": [
    "df1 = pd.read_csv(\"house_prices.csv\")\n",
    "df1.head(2)"
   ]
  },
  {
   "cell_type": "code",
   "execution_count": 59,
   "id": "9029515b",
   "metadata": {
    "scrolled": false
   },
   "outputs": [
    {
     "data": {
      "text/html": [
       "<div>\n",
       "<style scoped>\n",
       "    .dataframe tbody tr th:only-of-type {\n",
       "        vertical-align: middle;\n",
       "    }\n",
       "\n",
       "    .dataframe tbody tr th {\n",
       "        vertical-align: top;\n",
       "    }\n",
       "\n",
       "    .dataframe thead th {\n",
       "        text-align: right;\n",
       "    }\n",
       "</style>\n",
       "<table border=\"1\" class=\"dataframe\">\n",
       "  <thead>\n",
       "    <tr style=\"text-align: right;\">\n",
       "      <th></th>\n",
       "      <th>Price</th>\n",
       "      <th>Baths</th>\n",
       "      <th>Land size</th>\n",
       "      <th>Beds</th>\n",
       "      <th>House size</th>\n",
       "      <th>Location</th>\n",
       "      <th>Seller_type</th>\n",
       "      <th>Lat</th>\n",
       "      <th>Lon</th>\n",
       "    </tr>\n",
       "  </thead>\n",
       "  <tbody>\n",
       "    <tr>\n",
       "      <th>0</th>\n",
       "      <td>Rs 5,400,000</td>\n",
       "      <td>1</td>\n",
       "      <td>50.0 perches</td>\n",
       "      <td>3</td>\n",
       "      <td>1,600.0 sqft</td>\n",
       "      <td>Matara City,  Matara</td>\n",
       "      <td>Member</td>\n",
       "      <td>80.500000</td>\n",
       "      <td>6.166670</td>\n",
       "    </tr>\n",
       "    <tr>\n",
       "      <th>1</th>\n",
       "      <td>Rs 16,800,000</td>\n",
       "      <td>3</td>\n",
       "      <td>8.0 perches</td>\n",
       "      <td>3</td>\n",
       "      <td>1,480.0 sqft</td>\n",
       "      <td>Athurugiriya,  Colombo</td>\n",
       "      <td>Premium-Member</td>\n",
       "      <td>79.989929</td>\n",
       "      <td>6.877246</td>\n",
       "    </tr>\n",
       "    <tr>\n",
       "      <th>2</th>\n",
       "      <td>Rs 20,000,000</td>\n",
       "      <td>2</td>\n",
       "      <td>20.0 perches</td>\n",
       "      <td>3</td>\n",
       "      <td>2,800.0 sqft</td>\n",
       "      <td>Kelaniya,  Gampaha</td>\n",
       "      <td>Member</td>\n",
       "      <td>79.914926</td>\n",
       "      <td>6.951178</td>\n",
       "    </tr>\n",
       "    <tr>\n",
       "      <th>3</th>\n",
       "      <td>Rs 187,000,000</td>\n",
       "      <td>5</td>\n",
       "      <td>22.0 perches</td>\n",
       "      <td>5</td>\n",
       "      <td>4,000.0 sqft</td>\n",
       "      <td>Colombo 6,  Colombo</td>\n",
       "      <td>Premium-Member</td>\n",
       "      <td>80.016670</td>\n",
       "      <td>6.866670</td>\n",
       "    </tr>\n",
       "    <tr>\n",
       "      <th>4</th>\n",
       "      <td>Rs 1,300,000</td>\n",
       "      <td>1</td>\n",
       "      <td>6.3 perches</td>\n",
       "      <td>2</td>\n",
       "      <td>900.0 sqft</td>\n",
       "      <td>Dehiwala,  Colombo</td>\n",
       "      <td>Member</td>\n",
       "      <td>79.880242</td>\n",
       "      <td>6.838232</td>\n",
       "    </tr>\n",
       "    <tr>\n",
       "      <th>5</th>\n",
       "      <td>Rs 55,000,000</td>\n",
       "      <td>4</td>\n",
       "      <td>11.0 perches</td>\n",
       "      <td>4</td>\n",
       "      <td>3,300.0 sqft</td>\n",
       "      <td>Talawatugoda,  Colombo</td>\n",
       "      <td>Premium-Member</td>\n",
       "      <td>80.016670</td>\n",
       "      <td>6.866670</td>\n",
       "    </tr>\n",
       "    <tr>\n",
       "      <th>6</th>\n",
       "      <td>Rs 45,000,000</td>\n",
       "      <td>4</td>\n",
       "      <td>10.0 perches</td>\n",
       "      <td>4</td>\n",
       "      <td>4,100.0 sqft</td>\n",
       "      <td>Kandy City,  Kandy</td>\n",
       "      <td>Member</td>\n",
       "      <td>80.625828</td>\n",
       "      <td>7.295044</td>\n",
       "    </tr>\n",
       "    <tr>\n",
       "      <th>7</th>\n",
       "      <td>Rs 16,700,000</td>\n",
       "      <td>3</td>\n",
       "      <td>9.0 perches</td>\n",
       "      <td>3</td>\n",
       "      <td>1,400.0 sqft</td>\n",
       "      <td>Piliyandala,  Colombo</td>\n",
       "      <td>Member</td>\n",
       "      <td>79.922703</td>\n",
       "      <td>6.801844</td>\n",
       "    </tr>\n",
       "    <tr>\n",
       "      <th>8</th>\n",
       "      <td>Rs 50,000,000</td>\n",
       "      <td>4</td>\n",
       "      <td>10.0 perches</td>\n",
       "      <td>4</td>\n",
       "      <td>4,000.0 sqft</td>\n",
       "      <td>Talawatugoda,  Colombo</td>\n",
       "      <td>Premium-Member</td>\n",
       "      <td>80.016670</td>\n",
       "      <td>6.866670</td>\n",
       "    </tr>\n",
       "    <tr>\n",
       "      <th>9</th>\n",
       "      <td>Rs 16,000,000</td>\n",
       "      <td>1</td>\n",
       "      <td>3,000.0 perches</td>\n",
       "      <td>3</td>\n",
       "      <td>2,000.0 sqft</td>\n",
       "      <td>Kadawatha,  Gampaha</td>\n",
       "      <td>Premium-Member</td>\n",
       "      <td>79.951267</td>\n",
       "      <td>7.001966</td>\n",
       "    </tr>\n",
       "    <tr>\n",
       "      <th>10</th>\n",
       "      <td>Rs 19,500,000</td>\n",
       "      <td>2</td>\n",
       "      <td>10.0 perches</td>\n",
       "      <td>4</td>\n",
       "      <td>5,000.0 sqft</td>\n",
       "      <td>Gampaha City,  Gampaha</td>\n",
       "      <td>Premium-Member</td>\n",
       "      <td>80.000000</td>\n",
       "      <td>7.133330</td>\n",
       "    </tr>\n",
       "  </tbody>\n",
       "</table>\n",
       "</div>"
      ],
      "text/plain": [
       "             Price Baths        Land size Beds    House size  \\\n",
       "0     Rs 5,400,000     1     50.0 perches    3  1,600.0 sqft   \n",
       "1    Rs 16,800,000     3      8.0 perches    3  1,480.0 sqft   \n",
       "2    Rs 20,000,000     2     20.0 perches    3  2,800.0 sqft   \n",
       "3   Rs 187,000,000     5     22.0 perches    5  4,000.0 sqft   \n",
       "4     Rs 1,300,000     1      6.3 perches    2    900.0 sqft   \n",
       "5    Rs 55,000,000     4     11.0 perches    4  3,300.0 sqft   \n",
       "6    Rs 45,000,000     4     10.0 perches    4  4,100.0 sqft   \n",
       "7    Rs 16,700,000     3      9.0 perches    3  1,400.0 sqft   \n",
       "8    Rs 50,000,000     4     10.0 perches    4  4,000.0 sqft   \n",
       "9    Rs 16,000,000     1  3,000.0 perches    3  2,000.0 sqft   \n",
       "10   Rs 19,500,000     2     10.0 perches    4  5,000.0 sqft   \n",
       "\n",
       "                   Location     Seller_type        Lat       Lon  \n",
       "0      Matara City,  Matara          Member  80.500000  6.166670  \n",
       "1    Athurugiriya,  Colombo  Premium-Member  79.989929  6.877246  \n",
       "2        Kelaniya,  Gampaha          Member  79.914926  6.951178  \n",
       "3       Colombo 6,  Colombo  Premium-Member  80.016670  6.866670  \n",
       "4        Dehiwala,  Colombo          Member  79.880242  6.838232  \n",
       "5    Talawatugoda,  Colombo  Premium-Member  80.016670  6.866670  \n",
       "6        Kandy City,  Kandy          Member  80.625828  7.295044  \n",
       "7     Piliyandala,  Colombo          Member  79.922703  6.801844  \n",
       "8    Talawatugoda,  Colombo  Premium-Member  80.016670  6.866670  \n",
       "9       Kadawatha,  Gampaha  Premium-Member  79.951267  7.001966  \n",
       "10   Gampaha City,  Gampaha  Premium-Member  80.000000  7.133330  "
      ]
     },
     "execution_count": 59,
     "metadata": {},
     "output_type": "execute_result"
    }
   ],
   "source": [
    "df2 = df1.drop(['Title','Sub_title','Post_URL','Seller_name','published_date','Geo_Address','Address','Description'],axis='columns')\n",
    "df2.head(11)"
   ]
  },
  {
   "cell_type": "code",
   "execution_count": 60,
   "id": "ed2a5bf5",
   "metadata": {},
   "outputs": [
    {
     "data": {
      "text/plain": [
       "(15327, 9)"
      ]
     },
     "execution_count": 60,
     "metadata": {},
     "output_type": "execute_result"
    }
   ],
   "source": [
    "df2.shape"
   ]
  },
  {
   "cell_type": "code",
   "execution_count": 61,
   "id": "a3d6ff92",
   "metadata": {},
   "outputs": [],
   "source": [
    "df3= df2.copy()"
   ]
  },
  {
   "cell_type": "code",
   "execution_count": 62,
   "id": "f3d70e81",
   "metadata": {},
   "outputs": [
    {
     "data": {
      "text/html": [
       "<div>\n",
       "<style scoped>\n",
       "    .dataframe tbody tr th:only-of-type {\n",
       "        vertical-align: middle;\n",
       "    }\n",
       "\n",
       "    .dataframe tbody tr th {\n",
       "        vertical-align: top;\n",
       "    }\n",
       "\n",
       "    .dataframe thead th {\n",
       "        text-align: right;\n",
       "    }\n",
       "</style>\n",
       "<table border=\"1\" class=\"dataframe\">\n",
       "  <thead>\n",
       "    <tr style=\"text-align: right;\">\n",
       "      <th></th>\n",
       "      <th>Price</th>\n",
       "      <th>Baths</th>\n",
       "      <th>Land size</th>\n",
       "      <th>Beds</th>\n",
       "      <th>House size</th>\n",
       "      <th>Location</th>\n",
       "      <th>Seller_type</th>\n",
       "      <th>Lat</th>\n",
       "      <th>Lon</th>\n",
       "      <th>Land_size</th>\n",
       "    </tr>\n",
       "  </thead>\n",
       "  <tbody>\n",
       "    <tr>\n",
       "      <th>0</th>\n",
       "      <td>Rs 5,400,000</td>\n",
       "      <td>1</td>\n",
       "      <td>50.0 perches</td>\n",
       "      <td>3</td>\n",
       "      <td>1,600.0 sqft</td>\n",
       "      <td>Matara City,  Matara</td>\n",
       "      <td>Member</td>\n",
       "      <td>80.500000</td>\n",
       "      <td>6.166670</td>\n",
       "      <td>50.0</td>\n",
       "    </tr>\n",
       "    <tr>\n",
       "      <th>1</th>\n",
       "      <td>Rs 16,800,000</td>\n",
       "      <td>3</td>\n",
       "      <td>8.0 perches</td>\n",
       "      <td>3</td>\n",
       "      <td>1,480.0 sqft</td>\n",
       "      <td>Athurugiriya,  Colombo</td>\n",
       "      <td>Premium-Member</td>\n",
       "      <td>79.989929</td>\n",
       "      <td>6.877246</td>\n",
       "      <td>8.0</td>\n",
       "    </tr>\n",
       "  </tbody>\n",
       "</table>\n",
       "</div>"
      ],
      "text/plain": [
       "           Price Baths     Land size Beds    House size  \\\n",
       "0   Rs 5,400,000     1  50.0 perches    3  1,600.0 sqft   \n",
       "1  Rs 16,800,000     3   8.0 perches    3  1,480.0 sqft   \n",
       "\n",
       "                  Location     Seller_type        Lat       Lon Land_size  \n",
       "0     Matara City,  Matara          Member  80.500000  6.166670      50.0  \n",
       "1   Athurugiriya,  Colombo  Premium-Member  79.989929  6.877246       8.0  "
      ]
     },
     "execution_count": 62,
     "metadata": {},
     "output_type": "execute_result"
    }
   ],
   "source": [
    "df3['Land_size'] = df3['Land size'].apply(lambda x: (x.split(' ')[0]))\n",
    "df3.head(2)"
   ]
  },
  {
   "cell_type": "code",
   "execution_count": 63,
   "id": "a327cee5",
   "metadata": {
    "scrolled": true
   },
   "outputs": [
    {
     "data": {
      "text/html": [
       "<div>\n",
       "<style scoped>\n",
       "    .dataframe tbody tr th:only-of-type {\n",
       "        vertical-align: middle;\n",
       "    }\n",
       "\n",
       "    .dataframe tbody tr th {\n",
       "        vertical-align: top;\n",
       "    }\n",
       "\n",
       "    .dataframe thead th {\n",
       "        text-align: right;\n",
       "    }\n",
       "</style>\n",
       "<table border=\"1\" class=\"dataframe\">\n",
       "  <thead>\n",
       "    <tr style=\"text-align: right;\">\n",
       "      <th></th>\n",
       "      <th>Price</th>\n",
       "      <th>Baths</th>\n",
       "      <th>Land size</th>\n",
       "      <th>Beds</th>\n",
       "      <th>House size</th>\n",
       "      <th>Location</th>\n",
       "      <th>Seller_type</th>\n",
       "      <th>Lat</th>\n",
       "      <th>Lon</th>\n",
       "      <th>Land_size</th>\n",
       "      <th>Price_n</th>\n",
       "    </tr>\n",
       "  </thead>\n",
       "  <tbody>\n",
       "    <tr>\n",
       "      <th>0</th>\n",
       "      <td>Rs 5,400,000</td>\n",
       "      <td>1</td>\n",
       "      <td>50.0 perches</td>\n",
       "      <td>3</td>\n",
       "      <td>1,600.0 sqft</td>\n",
       "      <td>Matara City,  Matara</td>\n",
       "      <td>Member</td>\n",
       "      <td>80.500000</td>\n",
       "      <td>6.166670</td>\n",
       "      <td>50.0</td>\n",
       "      <td>5,400,000</td>\n",
       "    </tr>\n",
       "    <tr>\n",
       "      <th>1</th>\n",
       "      <td>Rs 16,800,000</td>\n",
       "      <td>3</td>\n",
       "      <td>8.0 perches</td>\n",
       "      <td>3</td>\n",
       "      <td>1,480.0 sqft</td>\n",
       "      <td>Athurugiriya,  Colombo</td>\n",
       "      <td>Premium-Member</td>\n",
       "      <td>79.989929</td>\n",
       "      <td>6.877246</td>\n",
       "      <td>8.0</td>\n",
       "      <td>16,800,000</td>\n",
       "    </tr>\n",
       "  </tbody>\n",
       "</table>\n",
       "</div>"
      ],
      "text/plain": [
       "           Price Baths     Land size Beds    House size  \\\n",
       "0   Rs 5,400,000     1  50.0 perches    3  1,600.0 sqft   \n",
       "1  Rs 16,800,000     3   8.0 perches    3  1,480.0 sqft   \n",
       "\n",
       "                  Location     Seller_type        Lat       Lon Land_size  \\\n",
       "0     Matara City,  Matara          Member  80.500000  6.166670      50.0   \n",
       "1   Athurugiriya,  Colombo  Premium-Member  79.989929  6.877246       8.0   \n",
       "\n",
       "      Price_n  \n",
       "0   5,400,000  \n",
       "1  16,800,000  "
      ]
     },
     "execution_count": 63,
     "metadata": {},
     "output_type": "execute_result"
    }
   ],
   "source": [
    "df3['Price_n'] = df3['Price'].apply(lambda x: (x.split(' ')[1]))\n",
    "df3.head(2)\n",
    "#df3.Price_n.unique()"
   ]
  },
  {
   "cell_type": "code",
   "execution_count": 64,
   "id": "050730a2",
   "metadata": {},
   "outputs": [
    {
     "data": {
      "text/html": [
       "<div>\n",
       "<style scoped>\n",
       "    .dataframe tbody tr th:only-of-type {\n",
       "        vertical-align: middle;\n",
       "    }\n",
       "\n",
       "    .dataframe tbody tr th {\n",
       "        vertical-align: top;\n",
       "    }\n",
       "\n",
       "    .dataframe thead th {\n",
       "        text-align: right;\n",
       "    }\n",
       "</style>\n",
       "<table border=\"1\" class=\"dataframe\">\n",
       "  <thead>\n",
       "    <tr style=\"text-align: right;\">\n",
       "      <th></th>\n",
       "      <th>Price</th>\n",
       "      <th>Baths</th>\n",
       "      <th>Land size</th>\n",
       "      <th>Beds</th>\n",
       "      <th>House size</th>\n",
       "      <th>Location</th>\n",
       "      <th>Seller_type</th>\n",
       "      <th>Lat</th>\n",
       "      <th>Lon</th>\n",
       "      <th>Land_size</th>\n",
       "      <th>Price_n</th>\n",
       "      <th>House_size</th>\n",
       "    </tr>\n",
       "  </thead>\n",
       "  <tbody>\n",
       "    <tr>\n",
       "      <th>0</th>\n",
       "      <td>Rs 5,400,000</td>\n",
       "      <td>1</td>\n",
       "      <td>50.0 perches</td>\n",
       "      <td>3</td>\n",
       "      <td>1,600.0 sqft</td>\n",
       "      <td>Matara City,  Matara</td>\n",
       "      <td>Member</td>\n",
       "      <td>80.500000</td>\n",
       "      <td>6.166670</td>\n",
       "      <td>50.0</td>\n",
       "      <td>5,400,000</td>\n",
       "      <td>1,600.0</td>\n",
       "    </tr>\n",
       "    <tr>\n",
       "      <th>1</th>\n",
       "      <td>Rs 16,800,000</td>\n",
       "      <td>3</td>\n",
       "      <td>8.0 perches</td>\n",
       "      <td>3</td>\n",
       "      <td>1,480.0 sqft</td>\n",
       "      <td>Athurugiriya,  Colombo</td>\n",
       "      <td>Premium-Member</td>\n",
       "      <td>79.989929</td>\n",
       "      <td>6.877246</td>\n",
       "      <td>8.0</td>\n",
       "      <td>16,800,000</td>\n",
       "      <td>1,480.0</td>\n",
       "    </tr>\n",
       "  </tbody>\n",
       "</table>\n",
       "</div>"
      ],
      "text/plain": [
       "           Price Baths     Land size Beds    House size  \\\n",
       "0   Rs 5,400,000     1  50.0 perches    3  1,600.0 sqft   \n",
       "1  Rs 16,800,000     3   8.0 perches    3  1,480.0 sqft   \n",
       "\n",
       "                  Location     Seller_type        Lat       Lon Land_size  \\\n",
       "0     Matara City,  Matara          Member  80.500000  6.166670      50.0   \n",
       "1   Athurugiriya,  Colombo  Premium-Member  79.989929  6.877246       8.0   \n",
       "\n",
       "      Price_n House_size  \n",
       "0   5,400,000    1,600.0  \n",
       "1  16,800,000    1,480.0  "
      ]
     },
     "execution_count": 64,
     "metadata": {},
     "output_type": "execute_result"
    }
   ],
   "source": [
    "df3['House_size'] = df3['House size'].apply(lambda x: (x.split(' ')[0]))\n",
    "df3.head(2)\n",
    "#df3.House_size.unique()"
   ]
  },
  {
   "cell_type": "code",
   "execution_count": 65,
   "id": "c8eff5fe",
   "metadata": {},
   "outputs": [
    {
     "data": {
      "text/html": [
       "<div>\n",
       "<style scoped>\n",
       "    .dataframe tbody tr th:only-of-type {\n",
       "        vertical-align: middle;\n",
       "    }\n",
       "\n",
       "    .dataframe tbody tr th {\n",
       "        vertical-align: top;\n",
       "    }\n",
       "\n",
       "    .dataframe thead th {\n",
       "        text-align: right;\n",
       "    }\n",
       "</style>\n",
       "<table border=\"1\" class=\"dataframe\">\n",
       "  <thead>\n",
       "    <tr style=\"text-align: right;\">\n",
       "      <th></th>\n",
       "      <th>Baths</th>\n",
       "      <th>Beds</th>\n",
       "      <th>Location</th>\n",
       "      <th>Seller_type</th>\n",
       "      <th>Lat</th>\n",
       "      <th>Lon</th>\n",
       "      <th>Land_size</th>\n",
       "      <th>Price_n</th>\n",
       "      <th>House_size</th>\n",
       "    </tr>\n",
       "  </thead>\n",
       "  <tbody>\n",
       "    <tr>\n",
       "      <th>0</th>\n",
       "      <td>1</td>\n",
       "      <td>3</td>\n",
       "      <td>Matara City,  Matara</td>\n",
       "      <td>Member</td>\n",
       "      <td>80.5</td>\n",
       "      <td>6.16667</td>\n",
       "      <td>50.0</td>\n",
       "      <td>5,400,000</td>\n",
       "      <td>1,600.0</td>\n",
       "    </tr>\n",
       "  </tbody>\n",
       "</table>\n",
       "</div>"
      ],
      "text/plain": [
       "  Baths Beds               Location Seller_type   Lat      Lon Land_size  \\\n",
       "0     1    3   Matara City,  Matara      Member  80.5  6.16667      50.0   \n",
       "\n",
       "     Price_n House_size  \n",
       "0  5,400,000    1,600.0  "
      ]
     },
     "execution_count": 65,
     "metadata": {},
     "output_type": "execute_result"
    }
   ],
   "source": [
    "df4 = df3.drop(['Price','House size','Land size'],axis='columns')\n",
    "df4.head(1)"
   ]
  },
  {
   "cell_type": "code",
   "execution_count": 66,
   "id": "8f531819",
   "metadata": {
    "scrolled": true
   },
   "outputs": [
    {
     "data": {
      "text/plain": [
       "Baths           object\n",
       "Beds            object\n",
       "Location        object\n",
       "Seller_type     object\n",
       "Lat            float64\n",
       "Lon            float64\n",
       "Land_size       object\n",
       "Price_n         object\n",
       "House_size      object\n",
       "dtype: object"
      ]
     },
     "execution_count": 66,
     "metadata": {},
     "output_type": "execute_result"
    }
   ],
   "source": [
    "df4.dtypes"
   ]
  },
  {
   "cell_type": "code",
   "execution_count": 96,
   "id": "b0706469",
   "metadata": {},
   "outputs": [
    {
     "data": {
      "text/html": [
       "<div>\n",
       "<style scoped>\n",
       "    .dataframe tbody tr th:only-of-type {\n",
       "        vertical-align: middle;\n",
       "    }\n",
       "\n",
       "    .dataframe tbody tr th {\n",
       "        vertical-align: top;\n",
       "    }\n",
       "\n",
       "    .dataframe thead th {\n",
       "        text-align: right;\n",
       "    }\n",
       "</style>\n",
       "<table border=\"1\" class=\"dataframe\">\n",
       "  <thead>\n",
       "    <tr style=\"text-align: right;\">\n",
       "      <th></th>\n",
       "      <th>Baths</th>\n",
       "      <th>Beds</th>\n",
       "      <th>Location</th>\n",
       "      <th>Seller_type</th>\n",
       "      <th>Lat</th>\n",
       "      <th>Lon</th>\n",
       "      <th>Land_size</th>\n",
       "      <th>Price_n</th>\n",
       "      <th>House_size</th>\n",
       "    </tr>\n",
       "  </thead>\n",
       "  <tbody>\n",
       "    <tr>\n",
       "      <th>0</th>\n",
       "      <td>1</td>\n",
       "      <td>3</td>\n",
       "      <td>Matara City,  Matara</td>\n",
       "      <td>Member</td>\n",
       "      <td>80.5</td>\n",
       "      <td>6.16667</td>\n",
       "      <td>50.0</td>\n",
       "      <td>5400000</td>\n",
       "      <td>1600.0</td>\n",
       "    </tr>\n",
       "  </tbody>\n",
       "</table>\n",
       "</div>"
      ],
      "text/plain": [
       "  Baths Beds               Location Seller_type   Lat      Lon Land_size  \\\n",
       "0     1    3   Matara City,  Matara      Member  80.5  6.16667      50.0   \n",
       "\n",
       "   Price_n House_size  \n",
       "0  5400000     1600.0  "
      ]
     },
     "execution_count": 96,
     "metadata": {},
     "output_type": "execute_result"
    }
   ],
   "source": [
    "df5= df4.copy()\n",
    "df5['Price_n']=df5['Price_n'].str.replace(',','')\n",
    "df5['House_size']=df5['House_size'].str.replace(',','')\n",
    "df5['Land_size']=df5['Land_size'].str.replace(',','')\n",
    "df5.head(1)"
   ]
  },
  {
   "cell_type": "code",
   "execution_count": 97,
   "id": "fa55024a",
   "metadata": {},
   "outputs": [
    {
     "data": {
      "text/plain": [
       "array(['1', '3', '2', '5', '4', '10+', '7', '6', '8', '10', '9'],\n",
       "      dtype=object)"
      ]
     },
     "execution_count": 97,
     "metadata": {},
     "output_type": "execute_result"
    }
   ],
   "source": [
    "df5.Baths.unique()"
   ]
  },
  {
   "cell_type": "code",
   "execution_count": 99,
   "id": "97788cf3",
   "metadata": {},
   "outputs": [
    {
     "data": {
      "text/plain": [
       "array(['1', '3', '2', '5', '4', '6', '7', '8', '9', '10'], dtype=object)"
      ]
     },
     "execution_count": 99,
     "metadata": {},
     "output_type": "execute_result"
    }
   ],
   "source": [
    "df5 = df5[~df5['Baths'].isin(['10+'])]\n",
    "df5 = df5[~df5['Beds'].isin(['10+'])]\n",
    "df5.Baths.unique()"
   ]
  },
  {
   "cell_type": "code",
   "execution_count": 100,
   "id": "0019eb1b",
   "metadata": {},
   "outputs": [],
   "source": [
    "df5['Price_n'] = df5['Price_n'].astype(float)\n",
    "df5['Baths']=df5['Baths'].astype(str).astype(int)\n",
    "df5['Beds']=df5['Beds'].astype(str).astype(int)\n",
    "df5['Land_size']=df5['Land_size'].astype(float)\n",
    "df5['House_size']=df5['House_size'].astype(float)"
   ]
  },
  {
   "cell_type": "code",
   "execution_count": 101,
   "id": "da6105d4",
   "metadata": {},
   "outputs": [
    {
     "data": {
      "text/plain": [
       "Baths            int32\n",
       "Beds             int32\n",
       "Location        object\n",
       "Seller_type     object\n",
       "Lat            float64\n",
       "Lon            float64\n",
       "Land_size      float64\n",
       "Price_n        float64\n",
       "House_size     float64\n",
       "dtype: object"
      ]
     },
     "execution_count": 101,
     "metadata": {},
     "output_type": "execute_result"
    }
   ],
   "source": [
    "df5.dtypes"
   ]
  },
  {
   "cell_type": "code",
   "execution_count": 102,
   "id": "0e4d0107",
   "metadata": {},
   "outputs": [
    {
     "data": {
      "text/plain": [
       "Baths          0\n",
       "Beds           0\n",
       "Location       0\n",
       "Seller_type    0\n",
       "Lat            0\n",
       "Lon            0\n",
       "Land_size      0\n",
       "Price_n        0\n",
       "House_size     0\n",
       "dtype: int64"
      ]
     },
     "execution_count": 102,
     "metadata": {},
     "output_type": "execute_result"
    }
   ],
   "source": [
    "df5.isnull().sum()"
   ]
  },
  {
   "cell_type": "code",
   "execution_count": 104,
   "id": "7c583198",
   "metadata": {},
   "outputs": [
    {
     "data": {
      "text/plain": [
       "Baths          0\n",
       "Beds           0\n",
       "Location       0\n",
       "Seller_type    0\n",
       "Lat            0\n",
       "Lon            0\n",
       "Land_size      0\n",
       "Price_n        0\n",
       "House_size     0\n",
       "dtype: int64"
      ]
     },
     "execution_count": 104,
     "metadata": {},
     "output_type": "execute_result"
    }
   ],
   "source": [
    "(df5=='?').sum()"
   ]
  },
  {
   "cell_type": "code",
   "execution_count": 110,
   "id": "4e7c4866",
   "metadata": {},
   "outputs": [
    {
     "data": {
      "text/plain": [
       "7493"
      ]
     },
     "execution_count": 110,
     "metadata": {},
     "output_type": "execute_result"
    }
   ],
   "source": [
    "df5.duplicated().sum()"
   ]
  },
  {
   "cell_type": "code",
   "execution_count": 115,
   "id": "b94ea6af",
   "metadata": {},
   "outputs": [
    {
     "data": {
      "text/html": [
       "<div>\n",
       "<style scoped>\n",
       "    .dataframe tbody tr th:only-of-type {\n",
       "        vertical-align: middle;\n",
       "    }\n",
       "\n",
       "    .dataframe tbody tr th {\n",
       "        vertical-align: top;\n",
       "    }\n",
       "\n",
       "    .dataframe thead th {\n",
       "        text-align: right;\n",
       "    }\n",
       "</style>\n",
       "<table border=\"1\" class=\"dataframe\">\n",
       "  <thead>\n",
       "    <tr style=\"text-align: right;\">\n",
       "      <th></th>\n",
       "      <th>Baths</th>\n",
       "      <th>Beds</th>\n",
       "      <th>Location</th>\n",
       "      <th>Seller_type</th>\n",
       "      <th>Lat</th>\n",
       "      <th>Lon</th>\n",
       "      <th>Land_size</th>\n",
       "      <th>Price_n</th>\n",
       "      <th>House_size</th>\n",
       "    </tr>\n",
       "  </thead>\n",
       "  <tbody>\n",
       "    <tr>\n",
       "      <th>0</th>\n",
       "      <td>1</td>\n",
       "      <td>3</td>\n",
       "      <td>Matara City,  Matara</td>\n",
       "      <td>Member</td>\n",
       "      <td>80.500000</td>\n",
       "      <td>6.166670</td>\n",
       "      <td>50.0</td>\n",
       "      <td>5400000.0</td>\n",
       "      <td>1600.0</td>\n",
       "    </tr>\n",
       "    <tr>\n",
       "      <th>1</th>\n",
       "      <td>3</td>\n",
       "      <td>3</td>\n",
       "      <td>Athurugiriya,  Colombo</td>\n",
       "      <td>Premium-Member</td>\n",
       "      <td>79.989929</td>\n",
       "      <td>6.877246</td>\n",
       "      <td>8.0</td>\n",
       "      <td>16800000.0</td>\n",
       "      <td>1480.0</td>\n",
       "    </tr>\n",
       "    <tr>\n",
       "      <th>2</th>\n",
       "      <td>2</td>\n",
       "      <td>3</td>\n",
       "      <td>Kelaniya,  Gampaha</td>\n",
       "      <td>Member</td>\n",
       "      <td>79.914926</td>\n",
       "      <td>6.951178</td>\n",
       "      <td>20.0</td>\n",
       "      <td>20000000.0</td>\n",
       "      <td>2800.0</td>\n",
       "    </tr>\n",
       "    <tr>\n",
       "      <th>3</th>\n",
       "      <td>5</td>\n",
       "      <td>5</td>\n",
       "      <td>Colombo 6,  Colombo</td>\n",
       "      <td>Premium-Member</td>\n",
       "      <td>80.016670</td>\n",
       "      <td>6.866670</td>\n",
       "      <td>22.0</td>\n",
       "      <td>187000000.0</td>\n",
       "      <td>4000.0</td>\n",
       "    </tr>\n",
       "    <tr>\n",
       "      <th>4</th>\n",
       "      <td>1</td>\n",
       "      <td>2</td>\n",
       "      <td>Dehiwala,  Colombo</td>\n",
       "      <td>Member</td>\n",
       "      <td>79.880242</td>\n",
       "      <td>6.838232</td>\n",
       "      <td>6.3</td>\n",
       "      <td>1300000.0</td>\n",
       "      <td>900.0</td>\n",
       "    </tr>\n",
       "  </tbody>\n",
       "</table>\n",
       "</div>"
      ],
      "text/plain": [
       "   Baths  Beds                 Location     Seller_type        Lat       Lon  \\\n",
       "0      1     3     Matara City,  Matara          Member  80.500000  6.166670   \n",
       "1      3     3   Athurugiriya,  Colombo  Premium-Member  79.989929  6.877246   \n",
       "2      2     3       Kelaniya,  Gampaha          Member  79.914926  6.951178   \n",
       "3      5     5      Colombo 6,  Colombo  Premium-Member  80.016670  6.866670   \n",
       "4      1     2       Dehiwala,  Colombo          Member  79.880242  6.838232   \n",
       "\n",
       "   Land_size      Price_n  House_size  \n",
       "0       50.0    5400000.0      1600.0  \n",
       "1        8.0   16800000.0      1480.0  \n",
       "2       20.0   20000000.0      2800.0  \n",
       "3       22.0  187000000.0      4000.0  \n",
       "4        6.3    1300000.0       900.0  "
      ]
     },
     "execution_count": 115,
     "metadata": {},
     "output_type": "execute_result"
    }
   ],
   "source": [
    "df6=df5.copy()\n",
    "df6.head(5)"
   ]
  },
  {
   "cell_type": "code",
   "execution_count": 116,
   "id": "32384b2f",
   "metadata": {},
   "outputs": [
    {
     "data": {
      "text/html": [
       "<div>\n",
       "<style scoped>\n",
       "    .dataframe tbody tr th:only-of-type {\n",
       "        vertical-align: middle;\n",
       "    }\n",
       "\n",
       "    .dataframe tbody tr th {\n",
       "        vertical-align: top;\n",
       "    }\n",
       "\n",
       "    .dataframe thead th {\n",
       "        text-align: right;\n",
       "    }\n",
       "</style>\n",
       "<table border=\"1\" class=\"dataframe\">\n",
       "  <thead>\n",
       "    <tr style=\"text-align: right;\">\n",
       "      <th></th>\n",
       "      <th>Baths</th>\n",
       "      <th>Beds</th>\n",
       "      <th>Location</th>\n",
       "      <th>Seller_type</th>\n",
       "      <th>Lat</th>\n",
       "      <th>Lon</th>\n",
       "      <th>Land_size</th>\n",
       "      <th>Price_n</th>\n",
       "      <th>House_size</th>\n",
       "      <th>Location_n</th>\n",
       "    </tr>\n",
       "  </thead>\n",
       "  <tbody>\n",
       "    <tr>\n",
       "      <th>0</th>\n",
       "      <td>1</td>\n",
       "      <td>3</td>\n",
       "      <td>Matara City,  Matara</td>\n",
       "      <td>Member</td>\n",
       "      <td>80.500000</td>\n",
       "      <td>6.166670</td>\n",
       "      <td>50.0</td>\n",
       "      <td>5400000.0</td>\n",
       "      <td>1600.0</td>\n",
       "      <td>Matara City</td>\n",
       "    </tr>\n",
       "    <tr>\n",
       "      <th>1</th>\n",
       "      <td>3</td>\n",
       "      <td>3</td>\n",
       "      <td>Athurugiriya,  Colombo</td>\n",
       "      <td>Premium-Member</td>\n",
       "      <td>79.989929</td>\n",
       "      <td>6.877246</td>\n",
       "      <td>8.0</td>\n",
       "      <td>16800000.0</td>\n",
       "      <td>1480.0</td>\n",
       "      <td>Athurugiriya</td>\n",
       "    </tr>\n",
       "    <tr>\n",
       "      <th>2</th>\n",
       "      <td>2</td>\n",
       "      <td>3</td>\n",
       "      <td>Kelaniya,  Gampaha</td>\n",
       "      <td>Member</td>\n",
       "      <td>79.914926</td>\n",
       "      <td>6.951178</td>\n",
       "      <td>20.0</td>\n",
       "      <td>20000000.0</td>\n",
       "      <td>2800.0</td>\n",
       "      <td>Kelaniya</td>\n",
       "    </tr>\n",
       "    <tr>\n",
       "      <th>3</th>\n",
       "      <td>5</td>\n",
       "      <td>5</td>\n",
       "      <td>Colombo 6,  Colombo</td>\n",
       "      <td>Premium-Member</td>\n",
       "      <td>80.016670</td>\n",
       "      <td>6.866670</td>\n",
       "      <td>22.0</td>\n",
       "      <td>187000000.0</td>\n",
       "      <td>4000.0</td>\n",
       "      <td>Colombo 6</td>\n",
       "    </tr>\n",
       "    <tr>\n",
       "      <th>4</th>\n",
       "      <td>1</td>\n",
       "      <td>2</td>\n",
       "      <td>Dehiwala,  Colombo</td>\n",
       "      <td>Member</td>\n",
       "      <td>79.880242</td>\n",
       "      <td>6.838232</td>\n",
       "      <td>6.3</td>\n",
       "      <td>1300000.0</td>\n",
       "      <td>900.0</td>\n",
       "      <td>Dehiwala</td>\n",
       "    </tr>\n",
       "  </tbody>\n",
       "</table>\n",
       "</div>"
      ],
      "text/plain": [
       "   Baths  Beds                 Location     Seller_type        Lat       Lon  \\\n",
       "0      1     3     Matara City,  Matara          Member  80.500000  6.166670   \n",
       "1      3     3   Athurugiriya,  Colombo  Premium-Member  79.989929  6.877246   \n",
       "2      2     3       Kelaniya,  Gampaha          Member  79.914926  6.951178   \n",
       "3      5     5      Colombo 6,  Colombo  Premium-Member  80.016670  6.866670   \n",
       "4      1     2       Dehiwala,  Colombo          Member  79.880242  6.838232   \n",
       "\n",
       "   Land_size      Price_n  House_size     Location_n  \n",
       "0       50.0    5400000.0      1600.0    Matara City  \n",
       "1        8.0   16800000.0      1480.0   Athurugiriya  \n",
       "2       20.0   20000000.0      2800.0       Kelaniya  \n",
       "3       22.0  187000000.0      4000.0      Colombo 6  \n",
       "4        6.3    1300000.0       900.0       Dehiwala  "
      ]
     },
     "execution_count": 116,
     "metadata": {},
     "output_type": "execute_result"
    }
   ],
   "source": [
    "df6['Location_n'] = df6['Location'].apply(lambda x: (x.split(',')[0]))\n",
    "df6.head(5)"
   ]
  },
  {
   "cell_type": "code",
   "execution_count": 178,
   "id": "f1910ffb",
   "metadata": {},
   "outputs": [],
   "source": [
    "df6['Location_n']=df6['Location_n'].str.replace(' ','')"
   ]
  },
  {
   "cell_type": "code",
   "execution_count": 179,
   "id": "744a10af",
   "metadata": {},
   "outputs": [
    {
     "data": {
      "text/plain": [
       "Piliyandala        2806\n",
       "Malabe             1572\n",
       "Negombo            1363\n",
       "Talawatugoda       1296\n",
       "Kottawa             750\n",
       "                   ... \n",
       "Narammala            11\n",
       "Balangoda            11\n",
       "KegalleCity          11\n",
       "NuwaraEliyaCity      11\n",
       "BadullaCity          11\n",
       "Name: Location_n, Length: 88, dtype: int64"
      ]
     },
     "execution_count": 179,
     "metadata": {},
     "output_type": "execute_result"
    }
   ],
   "source": [
    "#df3.location = df3.Location.apply(lambda x: x.strip())\n",
    "location_stats = df6['Location_n'].value_counts(ascending=False)\n",
    "location_stats"
   ]
  },
  {
   "cell_type": "code",
   "execution_count": 180,
   "id": "870a9bbd",
   "metadata": {},
   "outputs": [
    {
     "data": {
      "text/plain": [
       "15269"
      ]
     },
     "execution_count": 180,
     "metadata": {},
     "output_type": "execute_result"
    }
   ],
   "source": [
    "location_stats.values.sum()"
   ]
  },
  {
   "cell_type": "code",
   "execution_count": 181,
   "id": "9c7c6b52",
   "metadata": {},
   "outputs": [
    {
     "data": {
      "text/plain": [
       "88"
      ]
     },
     "execution_count": 181,
     "metadata": {},
     "output_type": "execute_result"
    }
   ],
   "source": [
    "len(location_stats[location_stats>10])"
   ]
  },
  {
   "cell_type": "code",
   "execution_count": 182,
   "id": "f72e2928",
   "metadata": {},
   "outputs": [
    {
     "data": {
      "text/plain": [
       "88"
      ]
     },
     "execution_count": 182,
     "metadata": {},
     "output_type": "execute_result"
    }
   ],
   "source": [
    "len(location_stats)"
   ]
  },
  {
   "cell_type": "code",
   "execution_count": 183,
   "id": "aaadb467",
   "metadata": {},
   "outputs": [
    {
     "data": {
      "text/plain": [
       "0"
      ]
     },
     "execution_count": 183,
     "metadata": {},
     "output_type": "execute_result"
    }
   ],
   "source": [
    "len(location_stats[location_stats<=10])"
   ]
  },
  {
   "cell_type": "code",
   "execution_count": 184,
   "id": "d5cec306",
   "metadata": {},
   "outputs": [
    {
     "data": {
      "text/plain": [
       "Series([], Name: Location_n, dtype: int64)"
      ]
     },
     "execution_count": 184,
     "metadata": {},
     "output_type": "execute_result"
    }
   ],
   "source": [
    "location_stats_less_than_10 = location_stats[location_stats<=10]\n",
    "location_stats_less_than_10"
   ]
  },
  {
   "cell_type": "code",
   "execution_count": 185,
   "id": "0aa1a149",
   "metadata": {},
   "outputs": [
    {
     "data": {
      "text/plain": [
       "88"
      ]
     },
     "execution_count": 185,
     "metadata": {},
     "output_type": "execute_result"
    }
   ],
   "source": [
    "len(df6.Location_n.unique())"
   ]
  },
  {
   "cell_type": "code",
   "execution_count": 186,
   "id": "a37094aa",
   "metadata": {},
   "outputs": [
    {
     "data": {
      "text/plain": [
       "88"
      ]
     },
     "execution_count": 186,
     "metadata": {},
     "output_type": "execute_result"
    }
   ],
   "source": [
    "df6.Location_n = df6.Location_n.apply(lambda x: 'other' if x in location_stats_less_than_10 else x)\n",
    "len(df6.Location_n.unique())"
   ]
  },
  {
   "cell_type": "code",
   "execution_count": 187,
   "id": "b5d08560",
   "metadata": {},
   "outputs": [
    {
     "data": {
      "text/html": [
       "<div>\n",
       "<style scoped>\n",
       "    .dataframe tbody tr th:only-of-type {\n",
       "        vertical-align: middle;\n",
       "    }\n",
       "\n",
       "    .dataframe tbody tr th {\n",
       "        vertical-align: top;\n",
       "    }\n",
       "\n",
       "    .dataframe thead th {\n",
       "        text-align: right;\n",
       "    }\n",
       "</style>\n",
       "<table border=\"1\" class=\"dataframe\">\n",
       "  <thead>\n",
       "    <tr style=\"text-align: right;\">\n",
       "      <th></th>\n",
       "      <th>Baths</th>\n",
       "      <th>Beds</th>\n",
       "      <th>Location</th>\n",
       "      <th>Seller_type</th>\n",
       "      <th>Lat</th>\n",
       "      <th>Lon</th>\n",
       "      <th>Land_size</th>\n",
       "      <th>Price_n</th>\n",
       "      <th>House_size</th>\n",
       "      <th>Location_n</th>\n",
       "    </tr>\n",
       "  </thead>\n",
       "  <tbody>\n",
       "    <tr>\n",
       "      <th>0</th>\n",
       "      <td>1</td>\n",
       "      <td>3</td>\n",
       "      <td>Matara City,  Matara</td>\n",
       "      <td>Member</td>\n",
       "      <td>80.5</td>\n",
       "      <td>6.16667</td>\n",
       "      <td>50.0</td>\n",
       "      <td>5400000.0</td>\n",
       "      <td>1600.0</td>\n",
       "      <td>MataraCity</td>\n",
       "    </tr>\n",
       "  </tbody>\n",
       "</table>\n",
       "</div>"
      ],
      "text/plain": [
       "   Baths  Beds               Location Seller_type   Lat      Lon  Land_size  \\\n",
       "0      1     3   Matara City,  Matara      Member  80.5  6.16667       50.0   \n",
       "\n",
       "     Price_n  House_size  Location_n  \n",
       "0  5400000.0      1600.0  MataraCity  "
      ]
     },
     "execution_count": 187,
     "metadata": {},
     "output_type": "execute_result"
    }
   ],
   "source": [
    "df6.head(1)"
   ]
  },
  {
   "cell_type": "code",
   "execution_count": 188,
   "id": "8fa814f6",
   "metadata": {},
   "outputs": [],
   "source": [
    "data= df6[['Price_n','Baths','Land_size','Beds','House_size']]"
   ]
  },
  {
   "cell_type": "code",
   "execution_count": 189,
   "id": "e759354a",
   "metadata": {},
   "outputs": [
    {
     "data": {
      "text/plain": [
       "<AxesSubplot:>"
      ]
     },
     "execution_count": 189,
     "metadata": {},
     "output_type": "execute_result"
    },
    {
     "data": {
      "image/png": "[encoded data removed]",
      "text/plain": [
       "<Figure size 432x288 with 1 Axes>"
      ]
     },
     "metadata": {
      "needs_background": "light"
     },
     "output_type": "display_data"
    }
   ],
   "source": [
    "data.iloc[:,1:11].boxplot()"
   ]
  },
  {
   "cell_type": "code",
   "execution_count": 190,
   "id": "d6469fd9",
   "metadata": {},
   "outputs": [],
   "source": [
    "Q1 = data.quantile(0.25)\n",
    "Q3 = data.quantile(0.75)"
   ]
  },
  {
   "cell_type": "code",
   "execution_count": 191,
   "id": "8fe50b67",
   "metadata": {},
   "outputs": [
    {
     "data": {
      "text/plain": [
       "Price_n       16500000.0\n",
       "Baths                2.0\n",
       "Land_size            7.8\n",
       "Beds                 3.0\n",
       "House_size        1644.0\n",
       "Name: 0.25, dtype: float64"
      ]
     },
     "execution_count": 191,
     "metadata": {},
     "output_type": "execute_result"
    }
   ],
   "source": [
    "Q1"
   ]
  },
  {
   "cell_type": "code",
   "execution_count": 192,
   "id": "66edda12",
   "metadata": {},
   "outputs": [
    {
     "data": {
      "text/plain": [
       "Price_n       39000000.0\n",
       "Baths                4.0\n",
       "Land_size           14.0\n",
       "Beds                 4.0\n",
       "House_size        3250.0\n",
       "Name: 0.75, dtype: float64"
      ]
     },
     "execution_count": 192,
     "metadata": {},
     "output_type": "execute_result"
    }
   ],
   "source": [
    "Q3"
   ]
  },
  {
   "cell_type": "code",
   "execution_count": 193,
   "id": "2d13d7ac",
   "metadata": {},
   "outputs": [
    {
     "data": {
      "text/html": [
       "<div>\n",
       "<style scoped>\n",
       "    .dataframe tbody tr th:only-of-type {\n",
       "        vertical-align: middle;\n",
       "    }\n",
       "\n",
       "    .dataframe tbody tr th {\n",
       "        vertical-align: top;\n",
       "    }\n",
       "\n",
       "    .dataframe thead th {\n",
       "        text-align: right;\n",
       "    }\n",
       "</style>\n",
       "<table border=\"1\" class=\"dataframe\">\n",
       "  <thead>\n",
       "    <tr style=\"text-align: right;\">\n",
       "      <th></th>\n",
       "      <th>Price_n</th>\n",
       "      <th>Baths</th>\n",
       "      <th>Land_size</th>\n",
       "      <th>Beds</th>\n",
       "      <th>House_size</th>\n",
       "    </tr>\n",
       "  </thead>\n",
       "  <tbody>\n",
       "    <tr>\n",
       "      <th>0</th>\n",
       "      <td>5400000.0</td>\n",
       "      <td>1</td>\n",
       "      <td>50.0</td>\n",
       "      <td>3</td>\n",
       "      <td>1600.0</td>\n",
       "    </tr>\n",
       "  </tbody>\n",
       "</table>\n",
       "</div>"
      ],
      "text/plain": [
       "     Price_n  Baths  Land_size  Beds  House_size\n",
       "0  5400000.0      1       50.0     3      1600.0"
      ]
     },
     "execution_count": 193,
     "metadata": {},
     "output_type": "execute_result"
    }
   ],
   "source": [
    "data.head(1)"
   ]
  },
  {
   "cell_type": "code",
   "execution_count": 194,
   "id": "bb3c10e7",
   "metadata": {},
   "outputs": [],
   "source": [
    "IQR = Q3-Q1"
   ]
  },
  {
   "cell_type": "code",
   "execution_count": 195,
   "id": "cb7433cd",
   "metadata": {},
   "outputs": [
    {
     "data": {
      "text/plain": [
       "0         True\n",
       "1        False\n",
       "2        False\n",
       "3         True\n",
       "4        False\n",
       "         ...  \n",
       "15322    False\n",
       "15323    False\n",
       "15324    False\n",
       "15325    False\n",
       "15326     True\n",
       "Length: 15269, dtype: bool"
      ]
     },
     "execution_count": 195,
     "metadata": {},
     "output_type": "execute_result"
    }
   ],
   "source": [
    "Out_row = ((data<(Q1-1.5*IQR))|(data>(Q3+1.5*IQR))).any(axis=1)\n",
    "Out_row"
   ]
  },
  {
   "cell_type": "code",
   "execution_count": 196,
   "id": "e4c7ef9a",
   "metadata": {},
   "outputs": [
    {
     "data": {
      "text/html": [
       "<div>\n",
       "<style scoped>\n",
       "    .dataframe tbody tr th:only-of-type {\n",
       "        vertical-align: middle;\n",
       "    }\n",
       "\n",
       "    .dataframe tbody tr th {\n",
       "        vertical-align: top;\n",
       "    }\n",
       "\n",
       "    .dataframe thead th {\n",
       "        text-align: right;\n",
       "    }\n",
       "</style>\n",
       "<table border=\"1\" class=\"dataframe\">\n",
       "  <thead>\n",
       "    <tr style=\"text-align: right;\">\n",
       "      <th></th>\n",
       "      <th>Baths</th>\n",
       "      <th>Beds</th>\n",
       "      <th>Location</th>\n",
       "      <th>Seller_type</th>\n",
       "      <th>Lat</th>\n",
       "      <th>Lon</th>\n",
       "      <th>Land_size</th>\n",
       "      <th>Price_n</th>\n",
       "      <th>House_size</th>\n",
       "      <th>Location_n</th>\n",
       "    </tr>\n",
       "  </thead>\n",
       "  <tbody>\n",
       "    <tr>\n",
       "      <th>1</th>\n",
       "      <td>3</td>\n",
       "      <td>3</td>\n",
       "      <td>Athurugiriya,  Colombo</td>\n",
       "      <td>Premium-Member</td>\n",
       "      <td>79.989929</td>\n",
       "      <td>6.877246</td>\n",
       "      <td>8.0</td>\n",
       "      <td>16800000.0</td>\n",
       "      <td>1480.0</td>\n",
       "      <td>Athurugiriya</td>\n",
       "    </tr>\n",
       "    <tr>\n",
       "      <th>2</th>\n",
       "      <td>2</td>\n",
       "      <td>3</td>\n",
       "      <td>Kelaniya,  Gampaha</td>\n",
       "      <td>Member</td>\n",
       "      <td>79.914926</td>\n",
       "      <td>6.951178</td>\n",
       "      <td>20.0</td>\n",
       "      <td>20000000.0</td>\n",
       "      <td>2800.0</td>\n",
       "      <td>Kelaniya</td>\n",
       "    </tr>\n",
       "    <tr>\n",
       "      <th>4</th>\n",
       "      <td>1</td>\n",
       "      <td>2</td>\n",
       "      <td>Dehiwala,  Colombo</td>\n",
       "      <td>Member</td>\n",
       "      <td>79.880242</td>\n",
       "      <td>6.838232</td>\n",
       "      <td>6.3</td>\n",
       "      <td>1300000.0</td>\n",
       "      <td>900.0</td>\n",
       "      <td>Dehiwala</td>\n",
       "    </tr>\n",
       "    <tr>\n",
       "      <th>5</th>\n",
       "      <td>4</td>\n",
       "      <td>4</td>\n",
       "      <td>Talawatugoda,  Colombo</td>\n",
       "      <td>Premium-Member</td>\n",
       "      <td>80.016670</td>\n",
       "      <td>6.866670</td>\n",
       "      <td>11.0</td>\n",
       "      <td>55000000.0</td>\n",
       "      <td>3300.0</td>\n",
       "      <td>Talawatugoda</td>\n",
       "    </tr>\n",
       "    <tr>\n",
       "      <th>6</th>\n",
       "      <td>4</td>\n",
       "      <td>4</td>\n",
       "      <td>Kandy City,  Kandy</td>\n",
       "      <td>Member</td>\n",
       "      <td>80.625828</td>\n",
       "      <td>7.295044</td>\n",
       "      <td>10.0</td>\n",
       "      <td>45000000.0</td>\n",
       "      <td>4100.0</td>\n",
       "      <td>KandyCity</td>\n",
       "    </tr>\n",
       "  </tbody>\n",
       "</table>\n",
       "</div>"
      ],
      "text/plain": [
       "   Baths  Beds                 Location     Seller_type        Lat       Lon  \\\n",
       "1      3     3   Athurugiriya,  Colombo  Premium-Member  79.989929  6.877246   \n",
       "2      2     3       Kelaniya,  Gampaha          Member  79.914926  6.951178   \n",
       "4      1     2       Dehiwala,  Colombo          Member  79.880242  6.838232   \n",
       "5      4     4   Talawatugoda,  Colombo  Premium-Member  80.016670  6.866670   \n",
       "6      4     4       Kandy City,  Kandy          Member  80.625828  7.295044   \n",
       "\n",
       "   Land_size     Price_n  House_size    Location_n  \n",
       "1        8.0  16800000.0      1480.0  Athurugiriya  \n",
       "2       20.0  20000000.0      2800.0      Kelaniya  \n",
       "4        6.3   1300000.0       900.0      Dehiwala  \n",
       "5       11.0  55000000.0      3300.0  Talawatugoda  \n",
       "6       10.0  45000000.0      4100.0     KandyCity  "
      ]
     },
     "execution_count": 196,
     "metadata": {},
     "output_type": "execute_result"
    }
   ],
   "source": [
    "df7= df6[~Out_row]\n",
    "df7.head(5)"
   ]
  },
  {
   "cell_type": "code",
   "execution_count": 197,
   "id": "e5946e2c",
   "metadata": {},
   "outputs": [
    {
     "data": {
      "text/plain": [
       "<AxesSubplot:>"
      ]
     },
     "execution_count": 197,
     "metadata": {},
     "output_type": "execute_result"
    },
    {
     "data": {
      "image/png": "[encoded data removed]",
      "text/plain": [
       "<Figure size 432x288 with 1 Axes>"
      ]
     },
     "metadata": {
      "needs_background": "light"
     },
     "output_type": "display_data"
    }
   ],
   "source": [
    "df7[['Price_n','Baths','Land_size','Beds','House_size']].boxplot()"
   ]
  },
  {
   "cell_type": "code",
   "execution_count": 198,
   "id": "050e6ea6",
   "metadata": {},
   "outputs": [
    {
     "data": {
      "text/html": [
       "<div>\n",
       "<style scoped>\n",
       "    .dataframe tbody tr th:only-of-type {\n",
       "        vertical-align: middle;\n",
       "    }\n",
       "\n",
       "    .dataframe tbody tr th {\n",
       "        vertical-align: top;\n",
       "    }\n",
       "\n",
       "    .dataframe thead th {\n",
       "        text-align: right;\n",
       "    }\n",
       "</style>\n",
       "<table border=\"1\" class=\"dataframe\">\n",
       "  <thead>\n",
       "    <tr style=\"text-align: right;\">\n",
       "      <th></th>\n",
       "      <th>Ambalangoda</th>\n",
       "      <th>Angoda</th>\n",
       "      <th>AnuradhapuraCity</th>\n",
       "      <th>Athurugiriya</th>\n",
       "      <th>BadullaCity</th>\n",
       "      <th>Balangoda</th>\n",
       "      <th>Bandaragama</th>\n",
       "      <th>Bandarawela</th>\n",
       "      <th>Batapola</th>\n",
       "      <th>Battaramulla</th>\n",
       "      <th>...</th>\n",
       "      <th>Rajagiriya</th>\n",
       "      <th>Ratmalana</th>\n",
       "      <th>RatnapuraCity</th>\n",
       "      <th>Seeduwa</th>\n",
       "      <th>Talawatugoda</th>\n",
       "      <th>Veyangoda</th>\n",
       "      <th>Wadduwa</th>\n",
       "      <th>Wattala</th>\n",
       "      <th>Wellampitiya</th>\n",
       "      <th>other</th>\n",
       "    </tr>\n",
       "  </thead>\n",
       "  <tbody>\n",
       "    <tr>\n",
       "      <th>1</th>\n",
       "      <td>0</td>\n",
       "      <td>0</td>\n",
       "      <td>0</td>\n",
       "      <td>1</td>\n",
       "      <td>0</td>\n",
       "      <td>0</td>\n",
       "      <td>0</td>\n",
       "      <td>0</td>\n",
       "      <td>0</td>\n",
       "      <td>0</td>\n",
       "      <td>...</td>\n",
       "      <td>0</td>\n",
       "      <td>0</td>\n",
       "      <td>0</td>\n",
       "      <td>0</td>\n",
       "      <td>0</td>\n",
       "      <td>0</td>\n",
       "      <td>0</td>\n",
       "      <td>0</td>\n",
       "      <td>0</td>\n",
       "      <td>0</td>\n",
       "    </tr>\n",
       "    <tr>\n",
       "      <th>2</th>\n",
       "      <td>0</td>\n",
       "      <td>0</td>\n",
       "      <td>0</td>\n",
       "      <td>0</td>\n",
       "      <td>0</td>\n",
       "      <td>0</td>\n",
       "      <td>0</td>\n",
       "      <td>0</td>\n",
       "      <td>0</td>\n",
       "      <td>0</td>\n",
       "      <td>...</td>\n",
       "      <td>0</td>\n",
       "      <td>0</td>\n",
       "      <td>0</td>\n",
       "      <td>0</td>\n",
       "      <td>0</td>\n",
       "      <td>0</td>\n",
       "      <td>0</td>\n",
       "      <td>0</td>\n",
       "      <td>0</td>\n",
       "      <td>0</td>\n",
       "    </tr>\n",
       "    <tr>\n",
       "      <th>4</th>\n",
       "      <td>0</td>\n",
       "      <td>0</td>\n",
       "      <td>0</td>\n",
       "      <td>0</td>\n",
       "      <td>0</td>\n",
       "      <td>0</td>\n",
       "      <td>0</td>\n",
       "      <td>0</td>\n",
       "      <td>0</td>\n",
       "      <td>0</td>\n",
       "      <td>...</td>\n",
       "      <td>0</td>\n",
       "      <td>0</td>\n",
       "      <td>0</td>\n",
       "      <td>0</td>\n",
       "      <td>0</td>\n",
       "      <td>0</td>\n",
       "      <td>0</td>\n",
       "      <td>0</td>\n",
       "      <td>0</td>\n",
       "      <td>0</td>\n",
       "    </tr>\n",
       "  </tbody>\n",
       "</table>\n",
       "<p>3 rows × 87 columns</p>\n",
       "</div>"
      ],
      "text/plain": [
       "   Ambalangoda  Angoda  AnuradhapuraCity  Athurugiriya  BadullaCity  \\\n",
       "1            0       0                 0             1            0   \n",
       "2            0       0                 0             0            0   \n",
       "4            0       0                 0             0            0   \n",
       "\n",
       "   Balangoda  Bandaragama  Bandarawela  Batapola  Battaramulla  ...  \\\n",
       "1          0            0            0         0             0  ...   \n",
       "2          0            0            0         0             0  ...   \n",
       "4          0            0            0         0             0  ...   \n",
       "\n",
       "   Rajagiriya  Ratmalana  RatnapuraCity  Seeduwa  Talawatugoda  Veyangoda  \\\n",
       "1           0          0              0        0             0          0   \n",
       "2           0          0              0        0             0          0   \n",
       "4           0          0              0        0             0          0   \n",
       "\n",
       "   Wadduwa  Wattala  Wellampitiya  other  \n",
       "1        0        0             0      0  \n",
       "2        0        0             0      0  \n",
       "4        0        0             0      0  \n",
       "\n",
       "[3 rows x 87 columns]"
      ]
     },
     "execution_count": 198,
     "metadata": {},
     "output_type": "execute_result"
    }
   ],
   "source": [
    "dummies = pd.get_dummies(df7.Location_n)\n",
    "dummies.head(3)"
   ]
  },
  {
   "cell_type": "code",
   "execution_count": 199,
   "id": "a5f77f6e",
   "metadata": {},
   "outputs": [
    {
     "data": {
      "text/html": [
       "<div>\n",
       "<style scoped>\n",
       "    .dataframe tbody tr th:only-of-type {\n",
       "        vertical-align: middle;\n",
       "    }\n",
       "\n",
       "    .dataframe tbody tr th {\n",
       "        vertical-align: top;\n",
       "    }\n",
       "\n",
       "    .dataframe thead th {\n",
       "        text-align: right;\n",
       "    }\n",
       "</style>\n",
       "<table border=\"1\" class=\"dataframe\">\n",
       "  <thead>\n",
       "    <tr style=\"text-align: right;\">\n",
       "      <th></th>\n",
       "      <th>Baths</th>\n",
       "      <th>Beds</th>\n",
       "      <th>Location</th>\n",
       "      <th>Seller_type</th>\n",
       "      <th>Lat</th>\n",
       "      <th>Lon</th>\n",
       "      <th>Land_size</th>\n",
       "      <th>Price_n</th>\n",
       "      <th>House_size</th>\n",
       "      <th>Location_n</th>\n",
       "      <th>...</th>\n",
       "      <th>Rajagiriya</th>\n",
       "      <th>Ratmalana</th>\n",
       "      <th>RatnapuraCity</th>\n",
       "      <th>Seeduwa</th>\n",
       "      <th>Talawatugoda</th>\n",
       "      <th>Veyangoda</th>\n",
       "      <th>Wadduwa</th>\n",
       "      <th>Wattala</th>\n",
       "      <th>Wellampitiya</th>\n",
       "      <th>other</th>\n",
       "    </tr>\n",
       "  </thead>\n",
       "  <tbody>\n",
       "    <tr>\n",
       "      <th>1</th>\n",
       "      <td>3</td>\n",
       "      <td>3</td>\n",
       "      <td>Athurugiriya,  Colombo</td>\n",
       "      <td>Premium-Member</td>\n",
       "      <td>79.989929</td>\n",
       "      <td>6.877246</td>\n",
       "      <td>8.0</td>\n",
       "      <td>16800000.0</td>\n",
       "      <td>1480.0</td>\n",
       "      <td>Athurugiriya</td>\n",
       "      <td>...</td>\n",
       "      <td>0</td>\n",
       "      <td>0</td>\n",
       "      <td>0</td>\n",
       "      <td>0</td>\n",
       "      <td>0</td>\n",
       "      <td>0</td>\n",
       "      <td>0</td>\n",
       "      <td>0</td>\n",
       "      <td>0</td>\n",
       "      <td>0</td>\n",
       "    </tr>\n",
       "    <tr>\n",
       "      <th>2</th>\n",
       "      <td>2</td>\n",
       "      <td>3</td>\n",
       "      <td>Kelaniya,  Gampaha</td>\n",
       "      <td>Member</td>\n",
       "      <td>79.914926</td>\n",
       "      <td>6.951178</td>\n",
       "      <td>20.0</td>\n",
       "      <td>20000000.0</td>\n",
       "      <td>2800.0</td>\n",
       "      <td>Kelaniya</td>\n",
       "      <td>...</td>\n",
       "      <td>0</td>\n",
       "      <td>0</td>\n",
       "      <td>0</td>\n",
       "      <td>0</td>\n",
       "      <td>0</td>\n",
       "      <td>0</td>\n",
       "      <td>0</td>\n",
       "      <td>0</td>\n",
       "      <td>0</td>\n",
       "      <td>0</td>\n",
       "    </tr>\n",
       "    <tr>\n",
       "      <th>4</th>\n",
       "      <td>1</td>\n",
       "      <td>2</td>\n",
       "      <td>Dehiwala,  Colombo</td>\n",
       "      <td>Member</td>\n",
       "      <td>79.880242</td>\n",
       "      <td>6.838232</td>\n",
       "      <td>6.3</td>\n",
       "      <td>1300000.0</td>\n",
       "      <td>900.0</td>\n",
       "      <td>Dehiwala</td>\n",
       "      <td>...</td>\n",
       "      <td>0</td>\n",
       "      <td>0</td>\n",
       "      <td>0</td>\n",
       "      <td>0</td>\n",
       "      <td>0</td>\n",
       "      <td>0</td>\n",
       "      <td>0</td>\n",
       "      <td>0</td>\n",
       "      <td>0</td>\n",
       "      <td>0</td>\n",
       "    </tr>\n",
       "    <tr>\n",
       "      <th>5</th>\n",
       "      <td>4</td>\n",
       "      <td>4</td>\n",
       "      <td>Talawatugoda,  Colombo</td>\n",
       "      <td>Premium-Member</td>\n",
       "      <td>80.016670</td>\n",
       "      <td>6.866670</td>\n",
       "      <td>11.0</td>\n",
       "      <td>55000000.0</td>\n",
       "      <td>3300.0</td>\n",
       "      <td>Talawatugoda</td>\n",
       "      <td>...</td>\n",
       "      <td>0</td>\n",
       "      <td>0</td>\n",
       "      <td>0</td>\n",
       "      <td>0</td>\n",
       "      <td>1</td>\n",
       "      <td>0</td>\n",
       "      <td>0</td>\n",
       "      <td>0</td>\n",
       "      <td>0</td>\n",
       "      <td>0</td>\n",
       "    </tr>\n",
       "    <tr>\n",
       "      <th>6</th>\n",
       "      <td>4</td>\n",
       "      <td>4</td>\n",
       "      <td>Kandy City,  Kandy</td>\n",
       "      <td>Member</td>\n",
       "      <td>80.625828</td>\n",
       "      <td>7.295044</td>\n",
       "      <td>10.0</td>\n",
       "      <td>45000000.0</td>\n",
       "      <td>4100.0</td>\n",
       "      <td>KandyCity</td>\n",
       "      <td>...</td>\n",
       "      <td>0</td>\n",
       "      <td>0</td>\n",
       "      <td>0</td>\n",
       "      <td>0</td>\n",
       "      <td>0</td>\n",
       "      <td>0</td>\n",
       "      <td>0</td>\n",
       "      <td>0</td>\n",
       "      <td>0</td>\n",
       "      <td>0</td>\n",
       "    </tr>\n",
       "  </tbody>\n",
       "</table>\n",
       "<p>5 rows × 97 columns</p>\n",
       "</div>"
      ],
      "text/plain": [
       "   Baths  Beds                 Location     Seller_type        Lat       Lon  \\\n",
       "1      3     3   Athurugiriya,  Colombo  Premium-Member  79.989929  6.877246   \n",
       "2      2     3       Kelaniya,  Gampaha          Member  79.914926  6.951178   \n",
       "4      1     2       Dehiwala,  Colombo          Member  79.880242  6.838232   \n",
       "5      4     4   Talawatugoda,  Colombo  Premium-Member  80.016670  6.866670   \n",
       "6      4     4       Kandy City,  Kandy          Member  80.625828  7.295044   \n",
       "\n",
       "   Land_size     Price_n  House_size    Location_n  ...  Rajagiriya  \\\n",
       "1        8.0  16800000.0      1480.0  Athurugiriya  ...           0   \n",
       "2       20.0  20000000.0      2800.0      Kelaniya  ...           0   \n",
       "4        6.3   1300000.0       900.0      Dehiwala  ...           0   \n",
       "5       11.0  55000000.0      3300.0  Talawatugoda  ...           0   \n",
       "6       10.0  45000000.0      4100.0     KandyCity  ...           0   \n",
       "\n",
       "   Ratmalana  RatnapuraCity  Seeduwa  Talawatugoda  Veyangoda  Wadduwa  \\\n",
       "1          0              0        0             0          0        0   \n",
       "2          0              0        0             0          0        0   \n",
       "4          0              0        0             0          0        0   \n",
       "5          0              0        0             1          0        0   \n",
       "6          0              0        0             0          0        0   \n",
       "\n",
       "   Wattala  Wellampitiya  other  \n",
       "1        0             0      0  \n",
       "2        0             0      0  \n",
       "4        0             0      0  \n",
       "5        0             0      0  \n",
       "6        0             0      0  \n",
       "\n",
       "[5 rows x 97 columns]"
      ]
     },
     "execution_count": 199,
     "metadata": {},
     "output_type": "execute_result"
    }
   ],
   "source": [
    "df8 = pd.concat([df7,dummies],axis='columns')\n",
    "df8.head()"
   ]
  },
  {
   "cell_type": "code",
   "execution_count": 228,
   "id": "39e95afe",
   "metadata": {},
   "outputs": [
    {
     "data": {
      "text/html": [
       "<div>\n",
       "<style scoped>\n",
       "    .dataframe tbody tr th:only-of-type {\n",
       "        vertical-align: middle;\n",
       "    }\n",
       "\n",
       "    .dataframe tbody tr th {\n",
       "        vertical-align: top;\n",
       "    }\n",
       "\n",
       "    .dataframe thead th {\n",
       "        text-align: right;\n",
       "    }\n",
       "</style>\n",
       "<table border=\"1\" class=\"dataframe\">\n",
       "  <thead>\n",
       "    <tr style=\"text-align: right;\">\n",
       "      <th></th>\n",
       "      <th>Baths</th>\n",
       "      <th>Beds</th>\n",
       "      <th>Land_size</th>\n",
       "      <th>Price_n</th>\n",
       "      <th>House_size</th>\n",
       "      <th>Ambalangoda</th>\n",
       "      <th>Angoda</th>\n",
       "      <th>AnuradhapuraCity</th>\n",
       "      <th>Athurugiriya</th>\n",
       "      <th>BadullaCity</th>\n",
       "      <th>...</th>\n",
       "      <th>Rajagiriya</th>\n",
       "      <th>Ratmalana</th>\n",
       "      <th>RatnapuraCity</th>\n",
       "      <th>Seeduwa</th>\n",
       "      <th>Talawatugoda</th>\n",
       "      <th>Veyangoda</th>\n",
       "      <th>Wadduwa</th>\n",
       "      <th>Wattala</th>\n",
       "      <th>Wellampitiya</th>\n",
       "      <th>other</th>\n",
       "    </tr>\n",
       "  </thead>\n",
       "  <tbody>\n",
       "    <tr>\n",
       "      <th>1</th>\n",
       "      <td>3</td>\n",
       "      <td>3</td>\n",
       "      <td>8.0</td>\n",
       "      <td>16800000.0</td>\n",
       "      <td>1480.0</td>\n",
       "      <td>0</td>\n",
       "      <td>0</td>\n",
       "      <td>0</td>\n",
       "      <td>1</td>\n",
       "      <td>0</td>\n",
       "      <td>...</td>\n",
       "      <td>0</td>\n",
       "      <td>0</td>\n",
       "      <td>0</td>\n",
       "      <td>0</td>\n",
       "      <td>0</td>\n",
       "      <td>0</td>\n",
       "      <td>0</td>\n",
       "      <td>0</td>\n",
       "      <td>0</td>\n",
       "      <td>0</td>\n",
       "    </tr>\n",
       "    <tr>\n",
       "      <th>2</th>\n",
       "      <td>2</td>\n",
       "      <td>3</td>\n",
       "      <td>20.0</td>\n",
       "      <td>20000000.0</td>\n",
       "      <td>2800.0</td>\n",
       "      <td>0</td>\n",
       "      <td>0</td>\n",
       "      <td>0</td>\n",
       "      <td>0</td>\n",
       "      <td>0</td>\n",
       "      <td>...</td>\n",
       "      <td>0</td>\n",
       "      <td>0</td>\n",
       "      <td>0</td>\n",
       "      <td>0</td>\n",
       "      <td>0</td>\n",
       "      <td>0</td>\n",
       "      <td>0</td>\n",
       "      <td>0</td>\n",
       "      <td>0</td>\n",
       "      <td>0</td>\n",
       "    </tr>\n",
       "  </tbody>\n",
       "</table>\n",
       "<p>2 rows × 92 columns</p>\n",
       "</div>"
      ],
      "text/plain": [
       "   Baths  Beds  Land_size     Price_n  House_size  Ambalangoda  Angoda  \\\n",
       "1      3     3        8.0  16800000.0      1480.0            0       0   \n",
       "2      2     3       20.0  20000000.0      2800.0            0       0   \n",
       "\n",
       "   AnuradhapuraCity  Athurugiriya  BadullaCity  ...  Rajagiriya  Ratmalana  \\\n",
       "1                 0             1            0  ...           0          0   \n",
       "2                 0             0            0  ...           0          0   \n",
       "\n",
       "   RatnapuraCity  Seeduwa  Talawatugoda  Veyangoda  Wadduwa  Wattala  \\\n",
       "1              0        0             0          0        0        0   \n",
       "2              0        0             0          0        0        0   \n",
       "\n",
       "   Wellampitiya  other  \n",
       "1             0      0  \n",
       "2             0      0  \n",
       "\n",
       "[2 rows x 92 columns]"
      ]
     },
     "execution_count": 228,
     "metadata": {},
     "output_type": "execute_result"
    }
   ],
   "source": [
    "df9 = df8.drop(['Location','Location_n','Seller_type','Lat','Lon'],axis='columns')\n",
    "df9.head(2)"
   ]
  },
  {
   "cell_type": "code",
   "execution_count": 201,
   "id": "58d18f7e",
   "metadata": {
    "scrolled": true
   },
   "outputs": [
    {
     "data": {
      "text/html": [
       "<div>\n",
       "<style scoped>\n",
       "    .dataframe tbody tr th:only-of-type {\n",
       "        vertical-align: middle;\n",
       "    }\n",
       "\n",
       "    .dataframe tbody tr th {\n",
       "        vertical-align: top;\n",
       "    }\n",
       "\n",
       "    .dataframe thead th {\n",
       "        text-align: right;\n",
       "    }\n",
       "</style>\n",
       "<table border=\"1\" class=\"dataframe\">\n",
       "  <thead>\n",
       "    <tr style=\"text-align: right;\">\n",
       "      <th></th>\n",
       "      <th>Baths</th>\n",
       "      <th>Beds</th>\n",
       "      <th>Seller_type</th>\n",
       "      <th>Lat</th>\n",
       "      <th>Lon</th>\n",
       "      <th>Land_size</th>\n",
       "      <th>Price_n</th>\n",
       "      <th>House_size</th>\n",
       "      <th>Ambalangoda</th>\n",
       "      <th>Angoda</th>\n",
       "      <th>...</th>\n",
       "      <th>Rajagiriya</th>\n",
       "      <th>Ratmalana</th>\n",
       "      <th>RatnapuraCity</th>\n",
       "      <th>Seeduwa</th>\n",
       "      <th>Talawatugoda</th>\n",
       "      <th>Veyangoda</th>\n",
       "      <th>Wadduwa</th>\n",
       "      <th>Wattala</th>\n",
       "      <th>Wellampitiya</th>\n",
       "      <th>other</th>\n",
       "    </tr>\n",
       "  </thead>\n",
       "  <tbody>\n",
       "    <tr>\n",
       "      <th>1</th>\n",
       "      <td>3</td>\n",
       "      <td>3</td>\n",
       "      <td>1</td>\n",
       "      <td>79.989929</td>\n",
       "      <td>6.877246</td>\n",
       "      <td>8.0</td>\n",
       "      <td>16800000.0</td>\n",
       "      <td>1480.0</td>\n",
       "      <td>0</td>\n",
       "      <td>0</td>\n",
       "      <td>...</td>\n",
       "      <td>0</td>\n",
       "      <td>0</td>\n",
       "      <td>0</td>\n",
       "      <td>0</td>\n",
       "      <td>0</td>\n",
       "      <td>0</td>\n",
       "      <td>0</td>\n",
       "      <td>0</td>\n",
       "      <td>0</td>\n",
       "      <td>0</td>\n",
       "    </tr>\n",
       "    <tr>\n",
       "      <th>2</th>\n",
       "      <td>2</td>\n",
       "      <td>3</td>\n",
       "      <td>0</td>\n",
       "      <td>79.914926</td>\n",
       "      <td>6.951178</td>\n",
       "      <td>20.0</td>\n",
       "      <td>20000000.0</td>\n",
       "      <td>2800.0</td>\n",
       "      <td>0</td>\n",
       "      <td>0</td>\n",
       "      <td>...</td>\n",
       "      <td>0</td>\n",
       "      <td>0</td>\n",
       "      <td>0</td>\n",
       "      <td>0</td>\n",
       "      <td>0</td>\n",
       "      <td>0</td>\n",
       "      <td>0</td>\n",
       "      <td>0</td>\n",
       "      <td>0</td>\n",
       "      <td>0</td>\n",
       "    </tr>\n",
       "    <tr>\n",
       "      <th>4</th>\n",
       "      <td>1</td>\n",
       "      <td>2</td>\n",
       "      <td>0</td>\n",
       "      <td>79.880242</td>\n",
       "      <td>6.838232</td>\n",
       "      <td>6.3</td>\n",
       "      <td>1300000.0</td>\n",
       "      <td>900.0</td>\n",
       "      <td>0</td>\n",
       "      <td>0</td>\n",
       "      <td>...</td>\n",
       "      <td>0</td>\n",
       "      <td>0</td>\n",
       "      <td>0</td>\n",
       "      <td>0</td>\n",
       "      <td>0</td>\n",
       "      <td>0</td>\n",
       "      <td>0</td>\n",
       "      <td>0</td>\n",
       "      <td>0</td>\n",
       "      <td>0</td>\n",
       "    </tr>\n",
       "  </tbody>\n",
       "</table>\n",
       "<p>3 rows × 95 columns</p>\n",
       "</div>"
      ],
      "text/plain": [
       "   Baths  Beds  Seller_type        Lat       Lon  Land_size     Price_n  \\\n",
       "1      3     3            1  79.989929  6.877246        8.0  16800000.0   \n",
       "2      2     3            0  79.914926  6.951178       20.0  20000000.0   \n",
       "4      1     2            0  79.880242  6.838232        6.3   1300000.0   \n",
       "\n",
       "   House_size  Ambalangoda  Angoda  ...  Rajagiriya  Ratmalana  RatnapuraCity  \\\n",
       "1      1480.0            0       0  ...           0          0              0   \n",
       "2      2800.0            0       0  ...           0          0              0   \n",
       "4       900.0            0       0  ...           0          0              0   \n",
       "\n",
       "   Seeduwa  Talawatugoda  Veyangoda  Wadduwa  Wattala  Wellampitiya  other  \n",
       "1        0             0          0        0        0             0      0  \n",
       "2        0             0          0        0        0             0      0  \n",
       "4        0             0          0        0        0             0      0  \n",
       "\n",
       "[3 rows x 95 columns]"
      ]
     },
     "execution_count": 201,
     "metadata": {},
     "output_type": "execute_result"
    }
   ],
   "source": [
    "#le= LabelEncoder()\n",
    "#df9['Seller_type']=le.fit_transform(df9.Seller_type)\n",
    "#df9.head(3)"
   ]
  },
  {
   "cell_type": "code",
   "execution_count": 229,
   "id": "879e1f87",
   "metadata": {},
   "outputs": [
    {
     "data": {
      "text/html": [
       "<div>\n",
       "<style scoped>\n",
       "    .dataframe tbody tr th:only-of-type {\n",
       "        vertical-align: middle;\n",
       "    }\n",
       "\n",
       "    .dataframe tbody tr th {\n",
       "        vertical-align: top;\n",
       "    }\n",
       "\n",
       "    .dataframe thead th {\n",
       "        text-align: right;\n",
       "    }\n",
       "</style>\n",
       "<table border=\"1\" class=\"dataframe\">\n",
       "  <thead>\n",
       "    <tr style=\"text-align: right;\">\n",
       "      <th></th>\n",
       "      <th>Baths</th>\n",
       "      <th>Beds</th>\n",
       "      <th>Land_size</th>\n",
       "      <th>House_size</th>\n",
       "      <th>Ambalangoda</th>\n",
       "      <th>Angoda</th>\n",
       "      <th>AnuradhapuraCity</th>\n",
       "      <th>Athurugiriya</th>\n",
       "      <th>BadullaCity</th>\n",
       "      <th>Balangoda</th>\n",
       "      <th>...</th>\n",
       "      <th>Rajagiriya</th>\n",
       "      <th>Ratmalana</th>\n",
       "      <th>RatnapuraCity</th>\n",
       "      <th>Seeduwa</th>\n",
       "      <th>Talawatugoda</th>\n",
       "      <th>Veyangoda</th>\n",
       "      <th>Wadduwa</th>\n",
       "      <th>Wattala</th>\n",
       "      <th>Wellampitiya</th>\n",
       "      <th>other</th>\n",
       "    </tr>\n",
       "  </thead>\n",
       "  <tbody>\n",
       "    <tr>\n",
       "      <th>1</th>\n",
       "      <td>3</td>\n",
       "      <td>3</td>\n",
       "      <td>8.0</td>\n",
       "      <td>1480.0</td>\n",
       "      <td>0</td>\n",
       "      <td>0</td>\n",
       "      <td>0</td>\n",
       "      <td>1</td>\n",
       "      <td>0</td>\n",
       "      <td>0</td>\n",
       "      <td>...</td>\n",
       "      <td>0</td>\n",
       "      <td>0</td>\n",
       "      <td>0</td>\n",
       "      <td>0</td>\n",
       "      <td>0</td>\n",
       "      <td>0</td>\n",
       "      <td>0</td>\n",
       "      <td>0</td>\n",
       "      <td>0</td>\n",
       "      <td>0</td>\n",
       "    </tr>\n",
       "    <tr>\n",
       "      <th>2</th>\n",
       "      <td>2</td>\n",
       "      <td>3</td>\n",
       "      <td>20.0</td>\n",
       "      <td>2800.0</td>\n",
       "      <td>0</td>\n",
       "      <td>0</td>\n",
       "      <td>0</td>\n",
       "      <td>0</td>\n",
       "      <td>0</td>\n",
       "      <td>0</td>\n",
       "      <td>...</td>\n",
       "      <td>0</td>\n",
       "      <td>0</td>\n",
       "      <td>0</td>\n",
       "      <td>0</td>\n",
       "      <td>0</td>\n",
       "      <td>0</td>\n",
       "      <td>0</td>\n",
       "      <td>0</td>\n",
       "      <td>0</td>\n",
       "      <td>0</td>\n",
       "    </tr>\n",
       "    <tr>\n",
       "      <th>4</th>\n",
       "      <td>1</td>\n",
       "      <td>2</td>\n",
       "      <td>6.3</td>\n",
       "      <td>900.0</td>\n",
       "      <td>0</td>\n",
       "      <td>0</td>\n",
       "      <td>0</td>\n",
       "      <td>0</td>\n",
       "      <td>0</td>\n",
       "      <td>0</td>\n",
       "      <td>...</td>\n",
       "      <td>0</td>\n",
       "      <td>0</td>\n",
       "      <td>0</td>\n",
       "      <td>0</td>\n",
       "      <td>0</td>\n",
       "      <td>0</td>\n",
       "      <td>0</td>\n",
       "      <td>0</td>\n",
       "      <td>0</td>\n",
       "      <td>0</td>\n",
       "    </tr>\n",
       "  </tbody>\n",
       "</table>\n",
       "<p>3 rows × 91 columns</p>\n",
       "</div>"
      ],
      "text/plain": [
       "   Baths  Beds  Land_size  House_size  Ambalangoda  Angoda  AnuradhapuraCity  \\\n",
       "1      3     3        8.0      1480.0            0       0                 0   \n",
       "2      2     3       20.0      2800.0            0       0                 0   \n",
       "4      1     2        6.3       900.0            0       0                 0   \n",
       "\n",
       "   Athurugiriya  BadullaCity  Balangoda  ...  Rajagiriya  Ratmalana  \\\n",
       "1             1            0          0  ...           0          0   \n",
       "2             0            0          0  ...           0          0   \n",
       "4             0            0          0  ...           0          0   \n",
       "\n",
       "   RatnapuraCity  Seeduwa  Talawatugoda  Veyangoda  Wadduwa  Wattala  \\\n",
       "1              0        0             0          0        0        0   \n",
       "2              0        0             0          0        0        0   \n",
       "4              0        0             0          0        0        0   \n",
       "\n",
       "   Wellampitiya  other  \n",
       "1             0      0  \n",
       "2             0      0  \n",
       "4             0      0  \n",
       "\n",
       "[3 rows x 91 columns]"
      ]
     },
     "execution_count": 229,
     "metadata": {},
     "output_type": "execute_result"
    }
   ],
   "source": [
    "x = df9.drop(['Price_n'],axis='columns')\n",
    "x.head(3)"
   ]
  },
  {
   "cell_type": "code",
   "execution_count": 230,
   "id": "071cd6e1",
   "metadata": {},
   "outputs": [
    {
     "data": {
      "text/plain": [
       "1    16800000.0\n",
       "2    20000000.0\n",
       "4     1300000.0\n",
       "Name: Price_n, dtype: float64"
      ]
     },
     "execution_count": 230,
     "metadata": {},
     "output_type": "execute_result"
    }
   ],
   "source": [
    "y = df9.Price_n\n",
    "y.head(3)"
   ]
  },
  {
   "cell_type": "code",
   "execution_count": 231,
   "id": "0f4c431a",
   "metadata": {},
   "outputs": [],
   "source": [
    "from sklearn.model_selection import train_test_split\n",
    "x_train, x_test, y_train, y_test = train_test_split(x,y,test_size=0.2,random_state=10)"
   ]
  },
  {
   "cell_type": "code",
   "execution_count": 150,
   "id": "d537088d",
   "metadata": {},
   "outputs": [],
   "source": [
    "from sklearn.linear_model import LinearRegression\n",
    "from sklearn.linear_model import Lasso\n",
    "from sklearn.tree import DecisionTreeRegressor\n",
    "from sklearn.ensemble import RandomForestRegressor\n",
    "from sklearn.model_selection import ShuffleSplit"
   ]
  },
  {
   "cell_type": "code",
   "execution_count": 213,
   "id": "e87e6679",
   "metadata": {},
   "outputs": [
    {
     "name": "stderr",
     "output_type": "stream",
     "text": [
      "D:\\softwares\\anakonda\\lib\\site-packages\\sklearn\\linear_model\\_coordinate_descent.py:530: ConvergenceWarning: Objective did not converge. You might want to increase the number of iterations. Duality gap: 2.4181180796859818e+17, tolerance: 190902202138103.2\n",
      "  model = cd_fast.enet_coordinate_descent(\n",
      "D:\\softwares\\anakonda\\lib\\site-packages\\sklearn\\linear_model\\_coordinate_descent.py:530: ConvergenceWarning: Objective did not converge. You might want to increase the number of iterations. Duality gap: 2.4147172023909062e+17, tolerance: 192178304674796.25\n",
      "  model = cd_fast.enet_coordinate_descent(\n",
      "D:\\softwares\\anakonda\\lib\\site-packages\\sklearn\\linear_model\\_coordinate_descent.py:530: ConvergenceWarning: Objective did not converge. You might want to increase the number of iterations. Duality gap: 2.3939006612072995e+17, tolerance: 192405668964389.97\n",
      "  model = cd_fast.enet_coordinate_descent(\n",
      "D:\\softwares\\anakonda\\lib\\site-packages\\sklearn\\linear_model\\_coordinate_descent.py:530: ConvergenceWarning: Objective did not converge. You might want to increase the number of iterations. Duality gap: 2.4029623267690813e+17, tolerance: 193003731893490.6\n",
      "  model = cd_fast.enet_coordinate_descent(\n",
      "D:\\softwares\\anakonda\\lib\\site-packages\\sklearn\\linear_model\\_coordinate_descent.py:530: ConvergenceWarning: Objective did not converge. You might want to increase the number of iterations. Duality gap: 2.3967261092939357e+17, tolerance: 191808876821011.47\n",
      "  model = cd_fast.enet_coordinate_descent(\n",
      "D:\\softwares\\anakonda\\lib\\site-packages\\sklearn\\linear_model\\_coordinate_descent.py:530: ConvergenceWarning: Objective did not converge. You might want to increase the number of iterations. Duality gap: 1.4504374963083366e+17, tolerance: 190902202138103.2\n",
      "  model = cd_fast.enet_coordinate_descent(\n",
      "D:\\softwares\\anakonda\\lib\\site-packages\\sklearn\\linear_model\\_coordinate_descent.py:530: ConvergenceWarning: Objective did not converge. You might want to increase the number of iterations. Duality gap: 1.3857044065355982e+17, tolerance: 192178304674796.25\n",
      "  model = cd_fast.enet_coordinate_descent(\n",
      "D:\\softwares\\anakonda\\lib\\site-packages\\sklearn\\linear_model\\_coordinate_descent.py:530: ConvergenceWarning: Objective did not converge. You might want to increase the number of iterations. Duality gap: 1.481010860606304e+17, tolerance: 192405668964389.97\n",
      "  model = cd_fast.enet_coordinate_descent(\n",
      "D:\\softwares\\anakonda\\lib\\site-packages\\sklearn\\linear_model\\_coordinate_descent.py:530: ConvergenceWarning: Objective did not converge. You might want to increase the number of iterations. Duality gap: 1.4398245635232506e+17, tolerance: 193003731893490.6\n",
      "  model = cd_fast.enet_coordinate_descent(\n",
      "D:\\softwares\\anakonda\\lib\\site-packages\\sklearn\\linear_model\\_coordinate_descent.py:530: ConvergenceWarning: Objective did not converge. You might want to increase the number of iterations. Duality gap: 1.498923437780315e+17, tolerance: 191808876821011.47\n",
      "  model = cd_fast.enet_coordinate_descent(\n",
      "D:\\softwares\\anakonda\\lib\\site-packages\\sklearn\\linear_model\\_coordinate_descent.py:530: ConvergenceWarning: Objective did not converge. You might want to increase the number of iterations. Duality gap: 2.4205101242905776e+17, tolerance: 190902202138103.2\n",
      "  model = cd_fast.enet_coordinate_descent(\n",
      "D:\\softwares\\anakonda\\lib\\site-packages\\sklearn\\linear_model\\_coordinate_descent.py:530: ConvergenceWarning: Objective did not converge. You might want to increase the number of iterations. Duality gap: 2.4144562473738947e+17, tolerance: 192178304674796.25\n",
      "  model = cd_fast.enet_coordinate_descent(\n",
      "D:\\softwares\\anakonda\\lib\\site-packages\\sklearn\\linear_model\\_coordinate_descent.py:530: ConvergenceWarning: Objective did not converge. You might want to increase the number of iterations. Duality gap: 2.39712655188404e+17, tolerance: 192405668964389.97\n",
      "  model = cd_fast.enet_coordinate_descent(\n",
      "D:\\softwares\\anakonda\\lib\\site-packages\\sklearn\\linear_model\\_coordinate_descent.py:530: ConvergenceWarning: Objective did not converge. You might want to increase the number of iterations. Duality gap: 2.379243164368355e+17, tolerance: 193003731893490.6\n",
      "  model = cd_fast.enet_coordinate_descent(\n",
      "D:\\softwares\\anakonda\\lib\\site-packages\\sklearn\\linear_model\\_coordinate_descent.py:530: ConvergenceWarning: Objective did not converge. You might want to increase the number of iterations. Duality gap: 2.4072320933217904e+17, tolerance: 191808876821011.47\n",
      "  model = cd_fast.enet_coordinate_descent(\n",
      "D:\\softwares\\anakonda\\lib\\site-packages\\sklearn\\linear_model\\_coordinate_descent.py:530: ConvergenceWarning: Objective did not converge. You might want to increase the number of iterations. Duality gap: 1.4504821931658694e+17, tolerance: 190902202138103.2\n",
      "  model = cd_fast.enet_coordinate_descent(\n",
      "D:\\softwares\\anakonda\\lib\\site-packages\\sklearn\\linear_model\\_coordinate_descent.py:530: ConvergenceWarning: Objective did not converge. You might want to increase the number of iterations. Duality gap: 1.3857506802810738e+17, tolerance: 192178304674796.25\n",
      "  model = cd_fast.enet_coordinate_descent(\n",
      "D:\\softwares\\anakonda\\lib\\site-packages\\sklearn\\linear_model\\_coordinate_descent.py:530: ConvergenceWarning: Objective did not converge. You might want to increase the number of iterations. Duality gap: 2.3723539742380992e+17, tolerance: 192405668964389.97\n",
      "  model = cd_fast.enet_coordinate_descent(\n",
      "D:\\softwares\\anakonda\\lib\\site-packages\\sklearn\\linear_model\\_coordinate_descent.py:530: ConvergenceWarning: Objective did not converge. You might want to increase the number of iterations. Duality gap: 1.439871544190533e+17, tolerance: 193003731893490.6\n",
      "  model = cd_fast.enet_coordinate_descent(\n",
      "D:\\softwares\\anakonda\\lib\\site-packages\\sklearn\\linear_model\\_coordinate_descent.py:530: ConvergenceWarning: Objective did not converge. You might want to increase the number of iterations. Duality gap: 1.4989689004149114e+17, tolerance: 191808876821011.47\n",
      "  model = cd_fast.enet_coordinate_descent(\n",
      "D:\\softwares\\anakonda\\lib\\site-packages\\sklearn\\linear_model\\_coordinate_descent.py:530: ConvergenceWarning: Objective did not converge. You might want to increase the number of iterations. Duality gap: 2.4082096447627005e+17, tolerance: 190902202138103.2\n",
      "  model = cd_fast.enet_coordinate_descent(\n",
      "D:\\softwares\\anakonda\\lib\\site-packages\\sklearn\\linear_model\\_coordinate_descent.py:530: ConvergenceWarning: Objective did not converge. You might want to increase the number of iterations. Duality gap: 2.4175941314958838e+17, tolerance: 192178304674796.25\n",
      "  model = cd_fast.enet_coordinate_descent(\n",
      "D:\\softwares\\anakonda\\lib\\site-packages\\sklearn\\linear_model\\_coordinate_descent.py:530: ConvergenceWarning: Objective did not converge. You might want to increase the number of iterations. Duality gap: 2.387844230760783e+17, tolerance: 192405668964389.97\n",
      "  model = cd_fast.enet_coordinate_descent(\n",
      "D:\\softwares\\anakonda\\lib\\site-packages\\sklearn\\linear_model\\_coordinate_descent.py:530: ConvergenceWarning: Objective did not converge. You might want to increase the number of iterations. Duality gap: 2.400401665813914e+17, tolerance: 193003731893490.6\n",
      "  model = cd_fast.enet_coordinate_descent(\n",
      "D:\\softwares\\anakonda\\lib\\site-packages\\sklearn\\linear_model\\_coordinate_descent.py:530: ConvergenceWarning: Objective did not converge. You might want to increase the number of iterations. Duality gap: 2.317157457501608e+17, tolerance: 191808876821011.47\n",
      "  model = cd_fast.enet_coordinate_descent(\n",
      "D:\\softwares\\anakonda\\lib\\site-packages\\sklearn\\linear_model\\_coordinate_descent.py:530: ConvergenceWarning: Objective did not converge. You might want to increase the number of iterations. Duality gap: 1.450526613517854e+17, tolerance: 190902202138103.2\n",
      "  model = cd_fast.enet_coordinate_descent(\n",
      "D:\\softwares\\anakonda\\lib\\site-packages\\sklearn\\linear_model\\_coordinate_descent.py:530: ConvergenceWarning: Objective did not converge. You might want to increase the number of iterations. Duality gap: 1.3857967182964246e+17, tolerance: 192178304674796.25\n",
      "  model = cd_fast.enet_coordinate_descent(\n",
      "D:\\softwares\\anakonda\\lib\\site-packages\\sklearn\\linear_model\\_coordinate_descent.py:530: ConvergenceWarning: Objective did not converge. You might want to increase the number of iterations. Duality gap: 1.43161857527698e+17, tolerance: 192405668964389.97\n",
      "  model = cd_fast.enet_coordinate_descent(\n"
     ]
    },
    {
     "name": "stderr",
     "output_type": "stream",
     "text": [
      "D:\\softwares\\anakonda\\lib\\site-packages\\sklearn\\linear_model\\_coordinate_descent.py:530: ConvergenceWarning: Objective did not converge. You might want to increase the number of iterations. Duality gap: 1.4399182473978832e+17, tolerance: 193003731893490.6\n",
      "  model = cd_fast.enet_coordinate_descent(\n",
      "D:\\softwares\\anakonda\\lib\\site-packages\\sklearn\\linear_model\\_coordinate_descent.py:530: ConvergenceWarning: Objective did not converge. You might want to increase the number of iterations. Duality gap: 1.499014041694023e+17, tolerance: 191808876821011.47\n",
      "  model = cd_fast.enet_coordinate_descent(\n",
      "D:\\softwares\\anakonda\\lib\\site-packages\\sklearn\\linear_model\\_coordinate_descent.py:530: ConvergenceWarning: Objective did not converge. You might want to increase the number of iterations. Duality gap: 1.8788204277193286e+17, tolerance: 240131050013729.9\n",
      "  model = cd_fast.enet_coordinate_descent(\n"
     ]
    },
    {
     "data": {
      "text/html": [
       "<div>\n",
       "<style scoped>\n",
       "    .dataframe tbody tr th:only-of-type {\n",
       "        vertical-align: middle;\n",
       "    }\n",
       "\n",
       "    .dataframe tbody tr th {\n",
       "        vertical-align: top;\n",
       "    }\n",
       "\n",
       "    .dataframe thead th {\n",
       "        text-align: right;\n",
       "    }\n",
       "</style>\n",
       "<table border=\"1\" class=\"dataframe\">\n",
       "  <thead>\n",
       "    <tr style=\"text-align: right;\">\n",
       "      <th></th>\n",
       "      <th>model</th>\n",
       "      <th>best_score</th>\n",
       "      <th>best_params</th>\n",
       "    </tr>\n",
       "  </thead>\n",
       "  <tbody>\n",
       "    <tr>\n",
       "      <th>0</th>\n",
       "      <td>linear_regression</td>\n",
       "      <td>0.738136</td>\n",
       "      <td>{'normalize': False}</td>\n",
       "    </tr>\n",
       "    <tr>\n",
       "      <th>1</th>\n",
       "      <td>Random Forest</td>\n",
       "      <td>0.869220</td>\n",
       "      <td>{'n_estimators': 50}</td>\n",
       "    </tr>\n",
       "    <tr>\n",
       "      <th>2</th>\n",
       "      <td>lasso</td>\n",
       "      <td>0.738143</td>\n",
       "      <td>{'alpha': 3, 'selection': 'cyclic'}</td>\n",
       "    </tr>\n",
       "    <tr>\n",
       "      <th>3</th>\n",
       "      <td>decision_tree</td>\n",
       "      <td>0.802673</td>\n",
       "      <td>{'criterion': 'friedman_mse', 'splitter': 'best'}</td>\n",
       "    </tr>\n",
       "  </tbody>\n",
       "</table>\n",
       "</div>"
      ],
      "text/plain": [
       "               model  best_score  \\\n",
       "0  linear_regression    0.738136   \n",
       "1      Random Forest    0.869220   \n",
       "2              lasso    0.738143   \n",
       "3      decision_tree    0.802673   \n",
       "\n",
       "                                         best_params  \n",
       "0                               {'normalize': False}  \n",
       "1                               {'n_estimators': 50}  \n",
       "2                {'alpha': 3, 'selection': 'cyclic'}  \n",
       "3  {'criterion': 'friedman_mse', 'splitter': 'best'}  "
      ]
     },
     "execution_count": 213,
     "metadata": {},
     "output_type": "execute_result"
    }
   ],
   "source": [
    "from sklearn.model_selection import GridSearchCV\n",
    "from sklearn.ensemble import RandomForestRegressor\n",
    "from sklearn.linear_model import Lasso\n",
    "from sklearn.tree import DecisionTreeRegressor\n",
    "\n",
    "def find_best_model_using_gridsearchcv(x,y):\n",
    "    algos = {\n",
    "        'linear_regression' : {\n",
    "            'model': LinearRegression(),\n",
    "            'params': {\n",
    "                'normalize': [True, False]\n",
    "            }\n",
    "        },\n",
    "        'Random Forest': {\n",
    "            'model': RandomForestRegressor(),\n",
    "            'params': {\n",
    "                #'criterion':['gini'],\n",
    "                'n_estimators': [25,50,100]\n",
    "            }\n",
    "        },\n",
    "        'lasso': {\n",
    "            'model': Lasso(),\n",
    "            'params': {\n",
    "                'alpha': [1,2,3],\n",
    "                'selection': ['random', 'cyclic']\n",
    "            }\n",
    "        },\n",
    "        'decision_tree': {\n",
    "            'model': DecisionTreeRegressor(),\n",
    "            'params': {\n",
    "                'criterion' : ['mse','friedman_mse'],\n",
    "                'splitter': ['best','random']\n",
    "            }\n",
    "        }\n",
    "    }\n",
    "    scores = []\n",
    "    cv = ShuffleSplit(n_splits=5, test_size=0.2, random_state=0)\n",
    "    for algo_name, config in algos.items():\n",
    "        gs =  GridSearchCV(config['model'], config['params'], cv=cv, return_train_score=False)\n",
    "        gs.fit(x,y)\n",
    "        scores.append({\n",
    "            'model': algo_name,\n",
    "            'best_score': gs.best_score_,\n",
    "            'best_params': gs.best_params_\n",
    "        })\n",
    "\n",
    "    return pd.DataFrame(scores,columns=['model','best_score','best_params'])\n",
    "\n",
    "find_best_model_using_gridsearchcv(x,y)"
   ]
  },
  {
   "cell_type": "code",
   "execution_count": 232,
   "id": "8b50ff52",
   "metadata": {},
   "outputs": [
    {
     "data": {
      "text/plain": [
       "0.8660697489335943"
      ]
     },
     "execution_count": 232,
     "metadata": {},
     "output_type": "execute_result"
    }
   ],
   "source": [
    "rf_uc = RandomForestRegressor(n_estimators= 100)\n",
    "rf_uc.fit(x_train,y_train)\n",
    "rf_uc.score(x_test,y_test)"
   ]
  },
  {
   "cell_type": "code",
   "execution_count": 233,
   "id": "a466ac20",
   "metadata": {
    "scrolled": true
   },
   "outputs": [
    {
     "data": {
      "text/html": [
       "<div>\n",
       "<style scoped>\n",
       "    .dataframe tbody tr th:only-of-type {\n",
       "        vertical-align: middle;\n",
       "    }\n",
       "\n",
       "    .dataframe tbody tr th {\n",
       "        vertical-align: top;\n",
       "    }\n",
       "\n",
       "    .dataframe thead th {\n",
       "        text-align: right;\n",
       "    }\n",
       "</style>\n",
       "<table border=\"1\" class=\"dataframe\">\n",
       "  <thead>\n",
       "    <tr style=\"text-align: right;\">\n",
       "      <th></th>\n",
       "      <th>Baths</th>\n",
       "      <th>Beds</th>\n",
       "      <th>Land_size</th>\n",
       "      <th>House_size</th>\n",
       "      <th>Ambalangoda</th>\n",
       "      <th>Angoda</th>\n",
       "      <th>AnuradhapuraCity</th>\n",
       "      <th>Athurugiriya</th>\n",
       "      <th>BadullaCity</th>\n",
       "      <th>Balangoda</th>\n",
       "      <th>...</th>\n",
       "      <th>Rajagiriya</th>\n",
       "      <th>Ratmalana</th>\n",
       "      <th>RatnapuraCity</th>\n",
       "      <th>Seeduwa</th>\n",
       "      <th>Talawatugoda</th>\n",
       "      <th>Veyangoda</th>\n",
       "      <th>Wadduwa</th>\n",
       "      <th>Wattala</th>\n",
       "      <th>Wellampitiya</th>\n",
       "      <th>other</th>\n",
       "    </tr>\n",
       "  </thead>\n",
       "  <tbody>\n",
       "    <tr>\n",
       "      <th>1</th>\n",
       "      <td>3</td>\n",
       "      <td>3</td>\n",
       "      <td>8.0</td>\n",
       "      <td>1480.0</td>\n",
       "      <td>0</td>\n",
       "      <td>0</td>\n",
       "      <td>0</td>\n",
       "      <td>1</td>\n",
       "      <td>0</td>\n",
       "      <td>0</td>\n",
       "      <td>...</td>\n",
       "      <td>0</td>\n",
       "      <td>0</td>\n",
       "      <td>0</td>\n",
       "      <td>0</td>\n",
       "      <td>0</td>\n",
       "      <td>0</td>\n",
       "      <td>0</td>\n",
       "      <td>0</td>\n",
       "      <td>0</td>\n",
       "      <td>0</td>\n",
       "    </tr>\n",
       "  </tbody>\n",
       "</table>\n",
       "<p>1 rows × 91 columns</p>\n",
       "</div>"
      ],
      "text/plain": [
       "   Baths  Beds  Land_size  House_size  Ambalangoda  Angoda  AnuradhapuraCity  \\\n",
       "1      3     3        8.0      1480.0            0       0                 0   \n",
       "\n",
       "   Athurugiriya  BadullaCity  Balangoda  ...  Rajagiriya  Ratmalana  \\\n",
       "1             1            0          0  ...           0          0   \n",
       "\n",
       "   RatnapuraCity  Seeduwa  Talawatugoda  Veyangoda  Wadduwa  Wattala  \\\n",
       "1              0        0             0          0        0        0   \n",
       "\n",
       "   Wellampitiya  other  \n",
       "1             0      0  \n",
       "\n",
       "[1 rows x 91 columns]"
      ]
     },
     "execution_count": 233,
     "metadata": {},
     "output_type": "execute_result"
    }
   ],
   "source": [
    "x.head(1)"
   ]
  },
  {
   "cell_type": "code",
   "execution_count": 234,
   "id": "c9fc620e",
   "metadata": {},
   "outputs": [
    {
     "data": {
      "text/plain": [
       "Index(['Baths', 'Beds', 'Land_size', 'House_size', 'Ambalangoda', 'Angoda',\n",
       "       'AnuradhapuraCity', 'Athurugiriya', 'BadullaCity', 'Balangoda',\n",
       "       'Bandaragama', 'Bandarawela', 'Batapola', 'Battaramulla',\n",
       "       'BatticaloaCity', 'Boralesgamuwa', 'Chilaw', 'Colombo10', 'Colombo15',\n",
       "       'Colombo3', 'Colombo4', 'Colombo5', 'Colombo6', 'Colombo8', 'Colombo9',\n",
       "       'Dehiwala', 'Delgoda', 'Digana', 'Divulapitiya', 'Elpitiya',\n",
       "       'GalleCity', 'GampahaCity', 'Gampola', 'Ganemulla', 'Godagama',\n",
       "       'Hikkaduwa', 'Homagama', 'Horana', 'Ja-Ela', 'JaffnaCity', 'Kadawatha',\n",
       "       'Kaduwela', 'KalutaraCity', 'Kandana', 'KandyCity', 'Karapitiya',\n",
       "       'Katugastota', 'Katunayake', 'KegalleCity', 'Kelaniya', 'Kesbewa',\n",
       "       'Kiribathgoda', 'Kohuwala', 'Kolonnawa', 'Kottawa', 'Kotte',\n",
       "       'Kundasale', 'KurunegalaCity', 'Maharagama', 'Malabe', 'MataleCity',\n",
       "       'MataraCity', 'Matugama', 'Mawanella', 'Meegoda', 'Minuwangoda',\n",
       "       'Mirigama', 'Moratuwa', 'MountLavinia', 'Narammala', 'Nawala',\n",
       "       'Negombo', 'Nittambuwa', 'Nugegoda', 'NuwaraEliyaCity', 'Padukka',\n",
       "       'Panadura', 'Pannipitiya', 'Peradeniya', 'Piliyandala', 'Ragama',\n",
       "       'Rajagiriya', 'Ratmalana', 'RatnapuraCity', 'Seeduwa', 'Talawatugoda',\n",
       "       'Veyangoda', 'Wadduwa', 'Wattala', 'Wellampitiya', 'other'],\n",
       "      dtype='object')"
      ]
     },
     "execution_count": 234,
     "metadata": {},
     "output_type": "execute_result"
    }
   ],
   "source": [
    "x.columns"
   ]
  },
  {
   "cell_type": "code",
   "execution_count": 235,
   "id": "3a9b0357",
   "metadata": {},
   "outputs": [
    {
     "data": {
      "text/plain": [
       "87"
      ]
     },
     "execution_count": 235,
     "metadata": {},
     "output_type": "execute_result"
    }
   ],
   "source": [
    "np.where(x.columns=='Wadduwa')[0][0]"
   ]
  },
  {
   "cell_type": "code",
   "execution_count": 271,
   "id": "dc171da6",
   "metadata": {},
   "outputs": [],
   "source": [
    "def predict_Home_price(Baths,Beds,Land_size,House_size,location):    \n",
    "    location_index = np.where(x.columns==location)[0][0]\n",
    "    \n",
    "    x1 = np.zeros(len(x.columns))\n",
    "    x1[0] = Baths\n",
    "    x1[1] = Beds\n",
    "    x1[2] = Land_size\n",
    "    x1[3] = House_size\n",
    "    if location_index >= 0:\n",
    "        x1[location_index] = 1\n",
    "        \n",
    "\n",
    "    return round(rf_uc.predict([x1])[0],2)\n",
    "#return round(rf_uc.predict(x)[0],2)\n"
   ]
  },
  {
   "cell_type": "code",
   "execution_count": 272,
   "id": "5d623c7c",
   "metadata": {},
   "outputs": [
    {
     "data": {
      "text/plain": [
       "16939857.14"
      ]
     },
     "execution_count": 272,
     "metadata": {},
     "output_type": "execute_result"
    }
   ],
   "source": [
    "predict_Home_price(2,2,10.0,2000.0,'Wellampitiya')"
   ]
  },
  {
   "cell_type": "code",
   "execution_count": 273,
   "id": "f3ea8367",
   "metadata": {},
   "outputs": [
    {
     "data": {
      "text/plain": [
       "14835000.0"
      ]
     },
     "execution_count": 273,
     "metadata": {},
     "output_type": "execute_result"
    }
   ],
   "source": [
    "predict_Home_price(2,2,10.0,2000.0,'other')"
   ]
  },
  {
   "cell_type": "code",
   "execution_count": 275,
   "id": "3e9a076d",
   "metadata": {},
   "outputs": [],
   "source": [
    "import pickle\n",
    "with open('House_price_prediction_model.pickle','wb') as f:\n",
    "    pickle.dump(rf_uc,f)"
   ]
  },
  {
   "cell_type": "code",
   "execution_count": 276,
   "id": "a73fc3aa",
   "metadata": {},
   "outputs": [],
   "source": [
    "import json\n",
    "columns = {\n",
    "    'data_columns' : [col.lower() for col in x.columns]\n",
    "}\n",
    "with open(\"columns_house.json\",\"w\") as f:\n",
    "    f.write(json.dumps(columns))"
   ]
  },
  {
   "cell_type": "code",
   "execution_count": null,
   "id": "2f97ee72",
   "metadata": {},
   "outputs": [],
   "source": []
  }
 ],
 "metadata": {
  "kernelspec": {
   "display_name": "Python 3",
   "language": "python",
   "name": "python3"
  },
  "language_info": {
   "codemirror_mode": {
    "name": "ipython",
    "version": 3
   },
   "file_extension": ".py",
   "mimetype": "text/x-python",
   "name": "python",
   "nbconvert_exporter": "python",
   "pygments_lexer": "ipython3",
   "version": "3.8.8"
  }
 },
 "nbformat": 4,
 "nbformat_minor": 5
}
